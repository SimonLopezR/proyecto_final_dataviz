{
 "cells": [
  {
   "cell_type": "markdown",
   "metadata": {},
   "source": [
    "# Analitica Predictiva\n"
   ]
  },
  {
   "cell_type": "markdown",
   "metadata": {},
   "source": [
    "En el mundo del análisis de datos y el modelado predictivo, una parte fundamental es comprender en detalle la naturaleza y el comportamiento de los datos con los que estamos trabajando ya que serán el insumo del entrenamiento del modelo. Esto se logra mediante un Análisis Exploratorio de Datos (EDA, por sus siglas en inglés), que nos permite examinar las características de nuestros datos, tanto numéricas como categóricas, y comprender su distribución, tendencias y posibles relaciones entre variables. Esta exploración inicial es crucial para tomar decisiones informadas sobre cómo proceder con el modelado y la predicción.\n",
    "\n",
    "Además de la exploración de los datos, también nos proponemos seleccionar los modelos de clasificación más adecuados para nuestro conjunto de datos. Para lograr esto, evaluaremos el rendimiento de tres modelos ampliamente utilizados en la clasificación: Support Vector Machines (SVM), Random Forest Classifier y Gradient Boosting Trees. Estos modelos ofrecen enfoques diferentes para la clasificación y pueden adaptarse a una variedad de situaciones y tipos de datos.\n",
    "\n",
    "El proceso de selección de modelos implica entrenar y evaluar cada modelo utilizando métricas específicas, como la precisión (accuracy) y el recall. Además, exploraremos diferentes combinaciones de hiperparámetros para cada modelo, con el objetivo de encontrar la configuración óptima que maximice el rendimiento predictivo.\n",
    "\n",
    "En resumen, este informe tiene como objetivo realizar un análisis exhaustivo de nuestros datos mediante un EDA detallado, seguido de la selección y evaluación de modelos de clasificación para predecir con precisión las etiquetas de clasificación, y posteriormente su probabilidad. Al finalizar, esperamos haber obtenido una comprensión profunda de nuestros datos y haber identificado el modelo o modelos que mejor se ajusten a nuestras necesidades de predicción."
   ]
  },
  {
   "cell_type": "markdown",
   "metadata": {},
   "source": [
    "## Importación de librerias"
   ]
  },
  {
   "cell_type": "code",
   "execution_count": 40,
   "metadata": {},
   "outputs": [],
   "source": [
    "# Importar las bibliotecas necesarias\n",
    "import pandas as pd\n",
    "import numpy as np\n",
    "from sklearn.model_selection import train_test_split\n",
    "import os\n",
    "import joblib\n",
    "import seaborn as sns\n",
    "import matplotlib.pyplot as plt\n",
    "from sklearn.preprocessing import OrdinalEncoder, StandardScaler\n",
    "from sklearn.pipeline import Pipeline\n",
    "from sklearn.svm import SVC  \n",
    "from sklearn.ensemble import RandomForestClassifier, GradientBoostingClassifier\n",
    "from sklearn.compose import ColumnTransformer\n",
    "from sklearn import metrics\n",
    "from sklearn.model_selection import GridSearchCV,cross_val_score,ShuffleSplit\n",
    "from sklearn import tree\n",
    "import psycopg2\n",
    "from sklearn.metrics import accuracy_score,confusion_matrix,ConfusionMatrixDisplay,recall_score,precision_score,f1_score\n",
    "from sklearn.linear_model import LogisticRegression\n",
    "import shap\n"
   ]
  },
  {
   "cell_type": "markdown",
   "metadata": {},
   "source": [
    "## Importación de datos"
   ]
  },
  {
   "cell_type": "markdown",
   "metadata": {},
   "source": [
    "Nos conectamos a la Base de datos que tenemos en la nube"
   ]
  },
  {
   "cell_type": "code",
   "execution_count": 3,
   "metadata": {},
   "outputs": [],
   "source": [
    "conn = psycopg2.connect(\n",
    "    dbname=\"neondb\",\n",
    "    user=\"neondb_owner\",\n",
    "    password=\"YexCUXob4Oy7\",\n",
    "    host=\"ep-little-feather-a5rorog4.us-east-2.aws.neon.tech\",\n",
    "    port=\"5432\"\n",
    ")\n",
    "cursor = conn.cursor()\n",
    "\n",
    "cursor.execute(\"SELECT * FROM companies\")\n",
    "\n",
    "# Obtener los datos y guardarlos en un DataFrame\n",
    "data2 = cursor.fetchall()\n",
    "df = pd.DataFrame(data2)"
   ]
  },
  {
   "cell_type": "code",
   "execution_count": 4,
   "metadata": {},
   "outputs": [],
   "source": [
    "df.columns=['company', 'sector', 'horizon_days', 'amount', 'date_BUY_fix',\n",
    "       'date_SELL_fix', 'price_BUY', 'price_SELL', 'Volatility_Buy',\n",
    "       'Volatility_sell', 'Sharpe_Ratio', 'expected_return_yearly',\n",
    "       'inflation', 'nominal_return', 'investment', 'ESG_ranking', 'PE_ratio',\n",
    "       'EPS_ratio', 'PS_ratio', 'PB_ratio', 'NetProfitMargin_ratio',\n",
    "       'current_ratio', 'roa_ratio', 'roe_ratio']"
   ]
  },
  {
   "cell_type": "code",
   "execution_count": 5,
   "metadata": {},
   "outputs": [],
   "source": [
    "mapeo = {'GOOD': 1, 'BAD': 0}\n",
    "\n",
    "# Aplicar el mapeo a la columna 'categoria'\n",
    "df['investment'] = df['investment'].map(mapeo)"
   ]
  },
  {
   "cell_type": "markdown",
   "metadata": {},
   "source": [
    "El siguiente es el dataframe con el vamos a trabajar"
   ]
  },
  {
   "cell_type": "code",
   "execution_count": 6,
   "metadata": {},
   "outputs": [
    {
     "data": {
      "text/html": [
       "<div>\n",
       "<style scoped>\n",
       "    .dataframe tbody tr th:only-of-type {\n",
       "        vertical-align: middle;\n",
       "    }\n",
       "\n",
       "    .dataframe tbody tr th {\n",
       "        vertical-align: top;\n",
       "    }\n",
       "\n",
       "    .dataframe thead th {\n",
       "        text-align: right;\n",
       "    }\n",
       "</style>\n",
       "<table border=\"1\" class=\"dataframe\">\n",
       "  <thead>\n",
       "    <tr style=\"text-align: right;\">\n",
       "      <th></th>\n",
       "      <th>company</th>\n",
       "      <th>sector</th>\n",
       "      <th>horizon_days</th>\n",
       "      <th>amount</th>\n",
       "      <th>date_BUY_fix</th>\n",
       "      <th>date_SELL_fix</th>\n",
       "      <th>price_BUY</th>\n",
       "      <th>price_SELL</th>\n",
       "      <th>Volatility_Buy</th>\n",
       "      <th>Volatility_sell</th>\n",
       "      <th>...</th>\n",
       "      <th>investment</th>\n",
       "      <th>ESG_ranking</th>\n",
       "      <th>PE_ratio</th>\n",
       "      <th>EPS_ratio</th>\n",
       "      <th>PS_ratio</th>\n",
       "      <th>PB_ratio</th>\n",
       "      <th>NetProfitMargin_ratio</th>\n",
       "      <th>current_ratio</th>\n",
       "      <th>roa_ratio</th>\n",
       "      <th>roe_ratio</th>\n",
       "    </tr>\n",
       "  </thead>\n",
       "  <tbody>\n",
       "    <tr>\n",
       "      <th>0</th>\n",
       "      <td>HMC</td>\n",
       "      <td>AUTO</td>\n",
       "      <td>7</td>\n",
       "      <td>500.0</td>\n",
       "      <td>2016-06-14</td>\n",
       "      <td>2016-06-21</td>\n",
       "      <td>25.600000</td>\n",
       "      <td>26.410000</td>\n",
       "      <td>0.274761</td>\n",
       "      <td>0.274900</td>\n",
       "      <td>...</td>\n",
       "      <td>1</td>\n",
       "      <td>28.5</td>\n",
       "      <td>13.50</td>\n",
       "      <td>1.64</td>\n",
       "      <td>0.32</td>\n",
       "      <td>0.00</td>\n",
       "      <td>2.40</td>\n",
       "      <td>1.11</td>\n",
       "      <td>1.93</td>\n",
       "      <td>4.87</td>\n",
       "    </tr>\n",
       "    <tr>\n",
       "      <th>1</th>\n",
       "      <td>MSFT</td>\n",
       "      <td>TECH</td>\n",
       "      <td>330</td>\n",
       "      <td>1500.0</td>\n",
       "      <td>2016-07-22</td>\n",
       "      <td>2017-06-16</td>\n",
       "      <td>52.356224</td>\n",
       "      <td>66.406387</td>\n",
       "      <td>0.279043</td>\n",
       "      <td>0.160044</td>\n",
       "      <td>...</td>\n",
       "      <td>1</td>\n",
       "      <td>14.7</td>\n",
       "      <td>23.18</td>\n",
       "      <td>2.05</td>\n",
       "      <td>4.19</td>\n",
       "      <td>5.15</td>\n",
       "      <td>22.53</td>\n",
       "      <td>2.35</td>\n",
       "      <td>11.28</td>\n",
       "      <td>27.29</td>\n",
       "    </tr>\n",
       "    <tr>\n",
       "      <th>2</th>\n",
       "      <td>BAC</td>\n",
       "      <td>BANK</td>\n",
       "      <td>15</td>\n",
       "      <td>25000.0</td>\n",
       "      <td>2015-01-28</td>\n",
       "      <td>2015-02-12</td>\n",
       "      <td>13.609470</td>\n",
       "      <td>14.925651</td>\n",
       "      <td>0.228531</td>\n",
       "      <td>0.232711</td>\n",
       "      <td>...</td>\n",
       "      <td>1</td>\n",
       "      <td>26.3</td>\n",
       "      <td>42.16</td>\n",
       "      <td>0.38</td>\n",
       "      <td>1.77</td>\n",
       "      <td>0.69</td>\n",
       "      <td>4.62</td>\n",
       "      <td>0.94</td>\n",
       "      <td>0.21</td>\n",
       "      <td>1.88</td>\n",
       "    </tr>\n",
       "    <tr>\n",
       "      <th>3</th>\n",
       "      <td>KSS</td>\n",
       "      <td>RETAIL</td>\n",
       "      <td>270</td>\n",
       "      <td>50000.0</td>\n",
       "      <td>2015-01-28</td>\n",
       "      <td>2015-10-26</td>\n",
       "      <td>47.355690</td>\n",
       "      <td>36.093388</td>\n",
       "      <td>0.221473</td>\n",
       "      <td>0.292144</td>\n",
       "      <td>...</td>\n",
       "      <td>0</td>\n",
       "      <td>12.9</td>\n",
       "      <td>10.87</td>\n",
       "      <td>4.26</td>\n",
       "      <td>0.50</td>\n",
       "      <td>1.55</td>\n",
       "      <td>4.56</td>\n",
       "      <td>1.95</td>\n",
       "      <td>6.03</td>\n",
       "      <td>14.78</td>\n",
       "    </tr>\n",
       "    <tr>\n",
       "      <th>4</th>\n",
       "      <td>AAPL</td>\n",
       "      <td>TECH</td>\n",
       "      <td>600</td>\n",
       "      <td>10000.0</td>\n",
       "      <td>2015-05-21</td>\n",
       "      <td>2017-01-10</td>\n",
       "      <td>30.166021</td>\n",
       "      <td>28.201811</td>\n",
       "      <td>0.217025</td>\n",
       "      <td>0.227415</td>\n",
       "      <td>...</td>\n",
       "      <td>0</td>\n",
       "      <td>16.5</td>\n",
       "      <td>14.06</td>\n",
       "      <td>2.02</td>\n",
       "      <td>3.19</td>\n",
       "      <td>5.08</td>\n",
       "      <td>22.53</td>\n",
       "      <td>1.16</td>\n",
       "      <td>19.56</td>\n",
       "      <td>39.44</td>\n",
       "    </tr>\n",
       "  </tbody>\n",
       "</table>\n",
       "<p>5 rows × 24 columns</p>\n",
       "</div>"
      ],
      "text/plain": [
       "  company  sector  horizon_days   amount date_BUY_fix date_SELL_fix  \\\n",
       "0     HMC    AUTO             7    500.0   2016-06-14    2016-06-21   \n",
       "1    MSFT    TECH           330   1500.0   2016-07-22    2017-06-16   \n",
       "2     BAC    BANK            15  25000.0   2015-01-28    2015-02-12   \n",
       "3     KSS  RETAIL           270  50000.0   2015-01-28    2015-10-26   \n",
       "4    AAPL    TECH           600  10000.0   2015-05-21    2017-01-10   \n",
       "\n",
       "   price_BUY  price_SELL  Volatility_Buy  Volatility_sell  ...  investment  \\\n",
       "0  25.600000   26.410000        0.274761         0.274900  ...           1   \n",
       "1  52.356224   66.406387        0.279043         0.160044  ...           1   \n",
       "2  13.609470   14.925651        0.228531         0.232711  ...           1   \n",
       "3  47.355690   36.093388        0.221473         0.292144  ...           0   \n",
       "4  30.166021   28.201811        0.217025         0.227415  ...           0   \n",
       "\n",
       "   ESG_ranking  PE_ratio  EPS_ratio  PS_ratio  PB_ratio  \\\n",
       "0         28.5     13.50       1.64      0.32      0.00   \n",
       "1         14.7     23.18       2.05      4.19      5.15   \n",
       "2         26.3     42.16       0.38      1.77      0.69   \n",
       "3         12.9     10.87       4.26      0.50      1.55   \n",
       "4         16.5     14.06       2.02      3.19      5.08   \n",
       "\n",
       "   NetProfitMargin_ratio  current_ratio  roa_ratio  roe_ratio  \n",
       "0                   2.40           1.11       1.93       4.87  \n",
       "1                  22.53           2.35      11.28      27.29  \n",
       "2                   4.62           0.94       0.21       1.88  \n",
       "3                   4.56           1.95       6.03      14.78  \n",
       "4                  22.53           1.16      19.56      39.44  \n",
       "\n",
       "[5 rows x 24 columns]"
      ]
     },
     "execution_count": 6,
     "metadata": {},
     "output_type": "execute_result"
    }
   ],
   "source": [
    "df.head()"
   ]
  },
  {
   "cell_type": "code",
   "execution_count": 7,
   "metadata": {},
   "outputs": [
    {
     "name": "stdout",
     "output_type": "stream",
     "text": [
      "<class 'pandas.core.frame.DataFrame'>\n",
      "RangeIndex: 900 entries, 0 to 899\n",
      "Data columns (total 24 columns):\n",
      " #   Column                  Non-Null Count  Dtype  \n",
      "---  ------                  --------------  -----  \n",
      " 0   company                 900 non-null    object \n",
      " 1   sector                  900 non-null    object \n",
      " 2   horizon_days            900 non-null    int64  \n",
      " 3   amount                  900 non-null    float64\n",
      " 4   date_BUY_fix            900 non-null    object \n",
      " 5   date_SELL_fix           900 non-null    object \n",
      " 6   price_BUY               900 non-null    float64\n",
      " 7   price_SELL              900 non-null    float64\n",
      " 8   Volatility_Buy          900 non-null    float64\n",
      " 9   Volatility_sell         900 non-null    float64\n",
      " 10  Sharpe_Ratio            900 non-null    float64\n",
      " 11  expected_return_yearly  900 non-null    float64\n",
      " 12  inflation               900 non-null    float64\n",
      " 13  nominal_return          900 non-null    float64\n",
      " 14  investment              900 non-null    int64  \n",
      " 15  ESG_ranking             900 non-null    float64\n",
      " 16  PE_ratio                900 non-null    float64\n",
      " 17  EPS_ratio               900 non-null    float64\n",
      " 18  PS_ratio                900 non-null    float64\n",
      " 19  PB_ratio                900 non-null    float64\n",
      " 20  NetProfitMargin_ratio   900 non-null    float64\n",
      " 21  current_ratio           900 non-null    float64\n",
      " 22  roa_ratio               900 non-null    float64\n",
      " 23  roe_ratio               900 non-null    float64\n",
      "dtypes: float64(18), int64(2), object(4)\n",
      "memory usage: 168.9+ KB\n"
     ]
    }
   ],
   "source": [
    "df.info()"
   ]
  },
  {
   "cell_type": "markdown",
   "metadata": {},
   "source": [
    "## Parametrización"
   ]
  },
  {
   "cell_type": "markdown",
   "metadata": {},
   "source": [
    "Como buenas practicas, empezamos a parametrizar nuestro desarrollo sacando las columnas objetivo, variables a eliminar, variables numericas y categroicas, etc"
   ]
  },
  {
   "cell_type": "code",
   "execution_count": 8,
   "metadata": {},
   "outputs": [],
   "source": [
    "independent_var_erase=['sector','company','date_BUY_fix','date_SELL_fix', 'amount', 'Volatility_sell','Volatility_Buy']\n",
    "dependent_var='investment'\n",
    "independent_var=[x for x in df.columns if x not in independent_var_erase and x not in dependent_var]"
   ]
  },
  {
   "cell_type": "code",
   "execution_count": 9,
   "metadata": {},
   "outputs": [
    {
     "name": "stdout",
     "output_type": "stream",
     "text": [
      "Variables categoricas:  []\n",
      "Variables numericas:  ['horizon_days', 'price_BUY', 'price_SELL', 'Sharpe_Ratio', 'expected_return_yearly', 'inflation', 'nominal_return', 'ESG_ranking', 'PE_ratio', 'EPS_ratio', 'PS_ratio', 'PB_ratio', 'NetProfitMargin_ratio', 'current_ratio', 'roa_ratio', 'roe_ratio']\n",
      "Variables independientes:  ['horizon_days', 'price_BUY', 'price_SELL', 'Sharpe_Ratio', 'expected_return_yearly', 'inflation', 'nominal_return', 'ESG_ranking', 'PE_ratio', 'EPS_ratio', 'PS_ratio', 'PB_ratio', 'NetProfitMargin_ratio', 'current_ratio', 'roa_ratio', 'roe_ratio']\n"
     ]
    }
   ],
   "source": [
    "X=df[independent_var]\n",
    "y=df[dependent_var]\n",
    "\n",
    "# Seleccionar columnas categoricas\n",
    "VAR_categorical_cols = [cname for cname in X.columns if X[cname].dtype == \"object\"]\n",
    "\n",
    "# Seleccionar columnas numericas\n",
    "VAR_numerical_cols = [cname for cname in X.columns if X[cname].dtype in ['int64', 'float64']]\n",
    "\n",
    "# Total de columnas\n",
    "VAR_cols = VAR_categorical_cols + VAR_numerical_cols\n",
    "\n",
    "print('Variables categoricas: ',VAR_categorical_cols)\n",
    "print('Variables numericas: ',VAR_numerical_cols)\n",
    "print('Variables independientes: ',VAR_cols)"
   ]
  },
  {
   "cell_type": "markdown",
   "metadata": {},
   "source": [
    "## Modelos de clasificación"
   ]
  },
  {
   "cell_type": "markdown",
   "metadata": {},
   "source": [
    "En la ciencia de datos y el aprendizaje automático, la selección de un modelo apropiado es crucial para el éxito de cualquier tarea de predicción. Aquí, proporcionamos una descripción detallada de tres técnicas avanzadas de clasificación: Máquinas de Vectores de Soporte (SVM), Clasificador de Bosques Aleatorios (Random Forest) y Clasificadores de Impulso Gradiente (Gradient Boosting). Estos métodos se emplean ampliamente debido a su robustez, eficacia y precisión en una variedad de tareas predictivas.\n",
    "\n",
    "1. Máquinas de Vectores de Soporte (Support Vector Machines, SVM)\n",
    "\n",
    "Las Máquinas de Vectores de Soporte (SVM) son modelos de aprendizaje supervisado que analizan datos y reconocen patrones, utilizados principalmente en problemas de clasificación y regresión. En términos de clasificación, el objetivo principal de una SVM es encontrar el hiperplano que mejor divide un conjunto de instancias en varias clases de manera que quede un máximo margen entre los puntos de las diferentes clases.\n",
    "\n",
    "Características Principales:\n",
    "\n",
    "Maximización del Margen: SVM busca el hiperplano que maximiza el margen entre las clases. Este margen es calculado como la distancia entre las líneas más cercanas al hiperplano que no tienen puntos entre ellas.\n",
    "\n",
    "Vectores de Soporte: Los puntos más cercanos al hiperplano que definen el margen se conocen como vectores de soporte. Estos son los datos que ayudan a construir el hiperplano.\n",
    "\n",
    "Kernels: Para datos que no son linealmente separables en su espacio original, SVM utiliza funciones de kernel para transformar el espacio de entrada en un nuevo espacio donde es posible realizar la separación lineal.\n",
    "\n",
    "2. Clasificador de Bosques Aleatorios (Random Forest Classifier)\n",
    "\n",
    "El Clasificador de Bosques Aleatorios es un método de ensemble que opera construyendo una multitud de árboles de decisión durante el entrenamiento y outputting la clase que es la moda de las clases clasificadas por árboles individuales.\n",
    "\n",
    "Características Principales:\n",
    "Ensemble Learning: Random Forest combina múltiples árboles de decisión para aumentar la precisión de la clasificación.\n",
    "\n",
    "Reducción de Overfitting: A diferencia de los árboles de decisión individuales, Random Forest previene el overfitting al promediar o \"ensemble\" los resultados de varios árboles.\n",
    "\n",
    "Importancia de las Características: Este modelo proporciona una buena indicación de la importancia de las características en la clasificación.\n",
    "\n",
    "3. Clasificadores de Impulso Gradiente (Gradient Boosting Classifiers)\n",
    "\n",
    "Los Clasificadores de Impulso Gradiente son otra técnica de ensemble que construye el modelo de manera secuencial cada uno intentando corregir los errores del modelo anterior. Está entre los métodos más poderosos y ampliamente utilizados para tareas competitivas de clasificación.\n",
    "\n",
    "Características Principales:\n",
    "\n",
    "Boosting: Esta técnica combina múltiples modelos débiles de manera secuencial para crear un modelo robusto.\n",
    "\n",
    "Minimización de la Pérdida: En cada iteración, se añade un nuevo modelo que minimiza la función de pérdida global, lo cual mejora la precisión del modelo global.\n",
    "\n",
    "Flexibilidad: Puede utilizar diferentes funciones de pérdida y es efectivo en varias distribuciones de datos, incluyendo errores y outliers.\n",
    "\n",
    "\n",
    "Estos modelos representan herramientas sofisticadas y potentes para cualquier científico de datos que busque realizar análisis predictivos de alta precisión en problemas complejos de clasificación. Cada uno tiene sus fortalezas y contextos de aplicación ideales, por lo que la elección debe basarse en las necesidades específicas del problema y la naturaleza de los datos disponibles."
   ]
  },
  {
   "cell_type": "markdown",
   "metadata": {},
   "source": [
    "## Metodologia propuesta"
   ]
  },
  {
   "cell_type": "markdown",
   "metadata": {},
   "source": [
    "Ahora, la idea es hacer una tuberia de datos tal que cuando lleguen los datos nuevos a estimar, estos pasen por las mismas transformaciones por las que pasaron los datos de entrenamiento. Más precisamente hablando, el pipeline en scikit-learn es una herramienta que te permite concatenar varios pasos de procesamiento de datos y modelado en un solo objeto. Esto facilita la construcción, entrenamiento y evaluación de modelos de aprendizaje automático, ya que puedes encapsular todo el flujo de trabajo en una única estructura."
   ]
  },
  {
   "cell_type": "markdown",
   "metadata": {},
   "source": [
    "````{figure} ./figures/Resource-Pipeline-CU-Predictor-Favorabilidad-Compra-Acciones.png\n",
    ":name: Resource-Pipeline-CU-Predictor-Favorabilidad-Compra-Acciones_fig\n",
    ":align: center\n",
    "\n",
    "Funcionamiento de pipelines en SciKit-learn\n",
    "````"
   ]
  },
  {
   "cell_type": "markdown",
   "metadata": {},
   "source": [
    "De la misma manera, se busca optimizar las estimaciones y la calidad de los modelos, por lo que se usa la metodologia de Grid search o busqueda de malla para optimizar parametros dentro de los modelos. Es una herramienta poderosa para optimizar los hiperparámetros de un modelo de aprendizaje automático. Permite definir una cuadrícula de valores para diferentes hiperparámetros del modelo y busca exhaustivamente la mejor combinación de estos hiperparámetros.\n",
    "\n",
    "En términos más simples, el GridSearchCV realiza una búsqueda exhaustiva sobre una cuadrícula de valores especificados para los hiperparámetros de un estimador. Esto permite encontrar la combinación óptima de hiperparámetros que maximiza la precisión o cualquier otra métrica de evaluación definida.\n",
    "\n",
    "La idea detrás del GridSearchCV es que, en lugar de ajustar manualmente los hiperparámetros del modelo y evaluar su rendimiento, el proceso se automatiza y se realiza de manera sistemática. Esto ahorra tiempo y esfuerzo, ya que el GridSearchCV evalúa todas las combinaciones posibles de los hiperparámetros dentro de la cuadrícula especificada y selecciona la mejor combinación según la métrica de evaluación especificada."
   ]
  },
  {
   "cell_type": "markdown",
   "metadata": {},
   "source": [
    "````{figure} ./figures/Grid_serach.png\n",
    ":name: Grid_search_fig\n",
    ":align: center\n",
    "\n",
    "Funcionamiento de la busqueda de malla (Grid Search) en SciKit-learn\n",
    "````"
   ]
  },
  {
   "cell_type": "markdown",
   "metadata": {},
   "source": [
    "## Support Vector Machines"
   ]
  },
  {
   "cell_type": "markdown",
   "metadata": {},
   "source": [
    "Como se menciona anteriormente, Se propone hiper-parametrizar cada modelo junto con la aplciacion de pipelines de preprocesamiento, ahora, se busca que en los modelos propuestos se entrenen mediante validación cruzada anidada. En esta técnica, se busca tener un bucle externo sobre las divisiones de los datos en conjuntos de entrenamiento y de prueba. Para cada uno de ellos, se ejecuta una búsqueda en red, lo cual puede dar lugar a diferentes parámetros óptimos para cada división en el bucle externo"
   ]
  },
  {
   "cell_type": "code",
   "execution_count": 10,
   "metadata": {},
   "outputs": [],
   "source": [
    "preprocessor_svc = ColumnTransformer(\n",
    "    transformers=[\n",
    "        ('num', StandardScaler(), VAR_numerical_cols)\n",
    "    ],\n",
    "    remainder='passthrough'\n",
    ")"
   ]
  },
  {
   "cell_type": "code",
   "execution_count": 11,
   "metadata": {},
   "outputs": [],
   "source": [
    "param_grid_svc={'classifier__C': [0.1,1, 10,100], 'classifier__kernel': ['linear', 'rbf','sigmoid'],'classifier__gamma':[0.1,1, 10,100]}"
   ]
  },
  {
   "cell_type": "code",
   "execution_count": 12,
   "metadata": {},
   "outputs": [],
   "source": [
    "pipelines_svc = Pipeline([\n",
    "        ('preprocessor', preprocessor_svc),\n",
    "        ('classifier', SVC())\n",
    "])"
   ]
  },
  {
   "cell_type": "markdown",
   "metadata": {},
   "source": [
    "La funcion ShuffleSplit divide los datos en conjuntos de entrenamiento y prueba de tamaño igual (50% cada uno en este caso) de forma aleatoria en cada iteración de la validación cruzada. Esto ayuda a obtener una estimación más robusta del rendimiento del modelo al promediar los resultados sobre múltiples divisiones aleatorias de los datos.\n",
    "\n",
    "test_size: Esto especifica el tamaño del conjunto de datos de prueba. En este caso, se establece en 0.5, lo que significa que el 50% de los datos se utilizarán como conjunto de prueba en cada iteración de la validación cruzada.\n",
    "\n",
    "train_size: Esto especifica el tamaño del conjunto de datos de entrenamiento. Al igual que test_size, está establecido en 0.5, lo que significa que el 50% de los datos se utilizarán como conjunto de entrenamiento en cada iteración de la validación cruzada.\n",
    "\n",
    "n_splits: Esto especifica el número de divisiones diferentes que se crearán en los datos. En este caso, se establece en 10, lo que significa que se realizarán 10 iteraciones de la validación cruzada."
   ]
  },
  {
   "cell_type": "code",
   "execution_count": 13,
   "metadata": {},
   "outputs": [],
   "source": [
    "shuffle_split = ShuffleSplit(test_size=.5, train_size=.5, n_splits=10)"
   ]
  },
  {
   "cell_type": "code",
   "execution_count": 14,
   "metadata": {},
   "outputs": [
    {
     "name": "stdout",
     "output_type": "stream",
     "text": [
      "Cross-validation scores:  [0.97101449 0.95652174 0.95652174 0.98550725 0.95588235]\n",
      "Mean cross-validation score:  0.9650895140664962\n"
     ]
    }
   ],
   "source": [
    "grid_search_svc = GridSearchCV(pipelines_svc, param_grid_svc, cv=shuffle_split, scoring='recall')\n",
    "grid_search_results = cross_val_score(grid_search_svc, X, y, cv=5)\n",
    "\n",
    "\n",
    "print(\"Cross-validation scores: \", grid_search_results)\n",
    "print(\"Mean cross-validation score: \", grid_search_results.mean())"
   ]
  },
  {
   "cell_type": "code",
   "execution_count": 15,
   "metadata": {},
   "outputs": [
    {
     "name": "stdout",
     "output_type": "stream",
     "text": [
      "Mejores parámetros encontrados: SVC(C=0.1, gamma=0.1, kernel='linear')\n"
     ]
    }
   ],
   "source": [
    "ajuste_svc=grid_search_svc.fit(X, y)\n",
    "best_model_svc=ajuste_svc.best_estimator_\n",
    "\n",
    "# Resultados de la búsqueda de hiperparámetros\n",
    "print(\"Mejores parámetros encontrados:\", best_model_svc['classifier'])"
   ]
  },
  {
   "cell_type": "code",
   "execution_count": 16,
   "metadata": {},
   "outputs": [
    {
     "data": {
      "text/html": [
       "<style>#sk-container-id-1 {\n",
       "  /* Definition of color scheme common for light and dark mode */\n",
       "  --sklearn-color-text: black;\n",
       "  --sklearn-color-line: gray;\n",
       "  /* Definition of color scheme for unfitted estimators */\n",
       "  --sklearn-color-unfitted-level-0: #fff5e6;\n",
       "  --sklearn-color-unfitted-level-1: #f6e4d2;\n",
       "  --sklearn-color-unfitted-level-2: #ffe0b3;\n",
       "  --sklearn-color-unfitted-level-3: chocolate;\n",
       "  /* Definition of color scheme for fitted estimators */\n",
       "  --sklearn-color-fitted-level-0: #f0f8ff;\n",
       "  --sklearn-color-fitted-level-1: #d4ebff;\n",
       "  --sklearn-color-fitted-level-2: #b3dbfd;\n",
       "  --sklearn-color-fitted-level-3: cornflowerblue;\n",
       "\n",
       "  /* Specific color for light theme */\n",
       "  --sklearn-color-text-on-default-background: var(--sg-text-color, var(--theme-code-foreground, var(--jp-content-font-color1, black)));\n",
       "  --sklearn-color-background: var(--sg-background-color, var(--theme-background, var(--jp-layout-color0, white)));\n",
       "  --sklearn-color-border-box: var(--sg-text-color, var(--theme-code-foreground, var(--jp-content-font-color1, black)));\n",
       "  --sklearn-color-icon: #696969;\n",
       "\n",
       "  @media (prefers-color-scheme: dark) {\n",
       "    /* Redefinition of color scheme for dark theme */\n",
       "    --sklearn-color-text-on-default-background: var(--sg-text-color, var(--theme-code-foreground, var(--jp-content-font-color1, white)));\n",
       "    --sklearn-color-background: var(--sg-background-color, var(--theme-background, var(--jp-layout-color0, #111)));\n",
       "    --sklearn-color-border-box: var(--sg-text-color, var(--theme-code-foreground, var(--jp-content-font-color1, white)));\n",
       "    --sklearn-color-icon: #878787;\n",
       "  }\n",
       "}\n",
       "\n",
       "#sk-container-id-1 {\n",
       "  color: var(--sklearn-color-text);\n",
       "}\n",
       "\n",
       "#sk-container-id-1 pre {\n",
       "  padding: 0;\n",
       "}\n",
       "\n",
       "#sk-container-id-1 input.sk-hidden--visually {\n",
       "  border: 0;\n",
       "  clip: rect(1px 1px 1px 1px);\n",
       "  clip: rect(1px, 1px, 1px, 1px);\n",
       "  height: 1px;\n",
       "  margin: -1px;\n",
       "  overflow: hidden;\n",
       "  padding: 0;\n",
       "  position: absolute;\n",
       "  width: 1px;\n",
       "}\n",
       "\n",
       "#sk-container-id-1 div.sk-dashed-wrapped {\n",
       "  border: 1px dashed var(--sklearn-color-line);\n",
       "  margin: 0 0.4em 0.5em 0.4em;\n",
       "  box-sizing: border-box;\n",
       "  padding-bottom: 0.4em;\n",
       "  background-color: var(--sklearn-color-background);\n",
       "}\n",
       "\n",
       "#sk-container-id-1 div.sk-container {\n",
       "  /* jupyter's `normalize.less` sets `[hidden] { display: none; }`\n",
       "     but bootstrap.min.css set `[hidden] { display: none !important; }`\n",
       "     so we also need the `!important` here to be able to override the\n",
       "     default hidden behavior on the sphinx rendered scikit-learn.org.\n",
       "     See: https://github.com/scikit-learn/scikit-learn/issues/21755 */\n",
       "  display: inline-block !important;\n",
       "  position: relative;\n",
       "}\n",
       "\n",
       "#sk-container-id-1 div.sk-text-repr-fallback {\n",
       "  display: none;\n",
       "}\n",
       "\n",
       "div.sk-parallel-item,\n",
       "div.sk-serial,\n",
       "div.sk-item {\n",
       "  /* draw centered vertical line to link estimators */\n",
       "  background-image: linear-gradient(var(--sklearn-color-text-on-default-background), var(--sklearn-color-text-on-default-background));\n",
       "  background-size: 2px 100%;\n",
       "  background-repeat: no-repeat;\n",
       "  background-position: center center;\n",
       "}\n",
       "\n",
       "/* Parallel-specific style estimator block */\n",
       "\n",
       "#sk-container-id-1 div.sk-parallel-item::after {\n",
       "  content: \"\";\n",
       "  width: 100%;\n",
       "  border-bottom: 2px solid var(--sklearn-color-text-on-default-background);\n",
       "  flex-grow: 1;\n",
       "}\n",
       "\n",
       "#sk-container-id-1 div.sk-parallel {\n",
       "  display: flex;\n",
       "  align-items: stretch;\n",
       "  justify-content: center;\n",
       "  background-color: var(--sklearn-color-background);\n",
       "  position: relative;\n",
       "}\n",
       "\n",
       "#sk-container-id-1 div.sk-parallel-item {\n",
       "  display: flex;\n",
       "  flex-direction: column;\n",
       "}\n",
       "\n",
       "#sk-container-id-1 div.sk-parallel-item:first-child::after {\n",
       "  align-self: flex-end;\n",
       "  width: 50%;\n",
       "}\n",
       "\n",
       "#sk-container-id-1 div.sk-parallel-item:last-child::after {\n",
       "  align-self: flex-start;\n",
       "  width: 50%;\n",
       "}\n",
       "\n",
       "#sk-container-id-1 div.sk-parallel-item:only-child::after {\n",
       "  width: 0;\n",
       "}\n",
       "\n",
       "/* Serial-specific style estimator block */\n",
       "\n",
       "#sk-container-id-1 div.sk-serial {\n",
       "  display: flex;\n",
       "  flex-direction: column;\n",
       "  align-items: center;\n",
       "  background-color: var(--sklearn-color-background);\n",
       "  padding-right: 1em;\n",
       "  padding-left: 1em;\n",
       "}\n",
       "\n",
       "\n",
       "/* Toggleable style: style used for estimator/Pipeline/ColumnTransformer box that is\n",
       "clickable and can be expanded/collapsed.\n",
       "- Pipeline and ColumnTransformer use this feature and define the default style\n",
       "- Estimators will overwrite some part of the style using the `sk-estimator` class\n",
       "*/\n",
       "\n",
       "/* Pipeline and ColumnTransformer style (default) */\n",
       "\n",
       "#sk-container-id-1 div.sk-toggleable {\n",
       "  /* Default theme specific background. It is overwritten whether we have a\n",
       "  specific estimator or a Pipeline/ColumnTransformer */\n",
       "  background-color: var(--sklearn-color-background);\n",
       "}\n",
       "\n",
       "/* Toggleable label */\n",
       "#sk-container-id-1 label.sk-toggleable__label {\n",
       "  cursor: pointer;\n",
       "  display: block;\n",
       "  width: 100%;\n",
       "  margin-bottom: 0;\n",
       "  padding: 0.5em;\n",
       "  box-sizing: border-box;\n",
       "  text-align: center;\n",
       "}\n",
       "\n",
       "#sk-container-id-1 label.sk-toggleable__label-arrow:before {\n",
       "  /* Arrow on the left of the label */\n",
       "  content: \"▸\";\n",
       "  float: left;\n",
       "  margin-right: 0.25em;\n",
       "  color: var(--sklearn-color-icon);\n",
       "}\n",
       "\n",
       "#sk-container-id-1 label.sk-toggleable__label-arrow:hover:before {\n",
       "  color: var(--sklearn-color-text);\n",
       "}\n",
       "\n",
       "/* Toggleable content - dropdown */\n",
       "\n",
       "#sk-container-id-1 div.sk-toggleable__content {\n",
       "  max-height: 0;\n",
       "  max-width: 0;\n",
       "  overflow: hidden;\n",
       "  text-align: left;\n",
       "  /* unfitted */\n",
       "  background-color: var(--sklearn-color-unfitted-level-0);\n",
       "}\n",
       "\n",
       "#sk-container-id-1 div.sk-toggleable__content.fitted {\n",
       "  /* fitted */\n",
       "  background-color: var(--sklearn-color-fitted-level-0);\n",
       "}\n",
       "\n",
       "#sk-container-id-1 div.sk-toggleable__content pre {\n",
       "  margin: 0.2em;\n",
       "  border-radius: 0.25em;\n",
       "  color: var(--sklearn-color-text);\n",
       "  /* unfitted */\n",
       "  background-color: var(--sklearn-color-unfitted-level-0);\n",
       "}\n",
       "\n",
       "#sk-container-id-1 div.sk-toggleable__content.fitted pre {\n",
       "  /* unfitted */\n",
       "  background-color: var(--sklearn-color-fitted-level-0);\n",
       "}\n",
       "\n",
       "#sk-container-id-1 input.sk-toggleable__control:checked~div.sk-toggleable__content {\n",
       "  /* Expand drop-down */\n",
       "  max-height: 200px;\n",
       "  max-width: 100%;\n",
       "  overflow: auto;\n",
       "}\n",
       "\n",
       "#sk-container-id-1 input.sk-toggleable__control:checked~label.sk-toggleable__label-arrow:before {\n",
       "  content: \"▾\";\n",
       "}\n",
       "\n",
       "/* Pipeline/ColumnTransformer-specific style */\n",
       "\n",
       "#sk-container-id-1 div.sk-label input.sk-toggleable__control:checked~label.sk-toggleable__label {\n",
       "  color: var(--sklearn-color-text);\n",
       "  background-color: var(--sklearn-color-unfitted-level-2);\n",
       "}\n",
       "\n",
       "#sk-container-id-1 div.sk-label.fitted input.sk-toggleable__control:checked~label.sk-toggleable__label {\n",
       "  background-color: var(--sklearn-color-fitted-level-2);\n",
       "}\n",
       "\n",
       "/* Estimator-specific style */\n",
       "\n",
       "/* Colorize estimator box */\n",
       "#sk-container-id-1 div.sk-estimator input.sk-toggleable__control:checked~label.sk-toggleable__label {\n",
       "  /* unfitted */\n",
       "  background-color: var(--sklearn-color-unfitted-level-2);\n",
       "}\n",
       "\n",
       "#sk-container-id-1 div.sk-estimator.fitted input.sk-toggleable__control:checked~label.sk-toggleable__label {\n",
       "  /* fitted */\n",
       "  background-color: var(--sklearn-color-fitted-level-2);\n",
       "}\n",
       "\n",
       "#sk-container-id-1 div.sk-label label.sk-toggleable__label,\n",
       "#sk-container-id-1 div.sk-label label {\n",
       "  /* The background is the default theme color */\n",
       "  color: var(--sklearn-color-text-on-default-background);\n",
       "}\n",
       "\n",
       "/* On hover, darken the color of the background */\n",
       "#sk-container-id-1 div.sk-label:hover label.sk-toggleable__label {\n",
       "  color: var(--sklearn-color-text);\n",
       "  background-color: var(--sklearn-color-unfitted-level-2);\n",
       "}\n",
       "\n",
       "/* Label box, darken color on hover, fitted */\n",
       "#sk-container-id-1 div.sk-label.fitted:hover label.sk-toggleable__label.fitted {\n",
       "  color: var(--sklearn-color-text);\n",
       "  background-color: var(--sklearn-color-fitted-level-2);\n",
       "}\n",
       "\n",
       "/* Estimator label */\n",
       "\n",
       "#sk-container-id-1 div.sk-label label {\n",
       "  font-family: monospace;\n",
       "  font-weight: bold;\n",
       "  display: inline-block;\n",
       "  line-height: 1.2em;\n",
       "}\n",
       "\n",
       "#sk-container-id-1 div.sk-label-container {\n",
       "  text-align: center;\n",
       "}\n",
       "\n",
       "/* Estimator-specific */\n",
       "#sk-container-id-1 div.sk-estimator {\n",
       "  font-family: monospace;\n",
       "  border: 1px dotted var(--sklearn-color-border-box);\n",
       "  border-radius: 0.25em;\n",
       "  box-sizing: border-box;\n",
       "  margin-bottom: 0.5em;\n",
       "  /* unfitted */\n",
       "  background-color: var(--sklearn-color-unfitted-level-0);\n",
       "}\n",
       "\n",
       "#sk-container-id-1 div.sk-estimator.fitted {\n",
       "  /* fitted */\n",
       "  background-color: var(--sklearn-color-fitted-level-0);\n",
       "}\n",
       "\n",
       "/* on hover */\n",
       "#sk-container-id-1 div.sk-estimator:hover {\n",
       "  /* unfitted */\n",
       "  background-color: var(--sklearn-color-unfitted-level-2);\n",
       "}\n",
       "\n",
       "#sk-container-id-1 div.sk-estimator.fitted:hover {\n",
       "  /* fitted */\n",
       "  background-color: var(--sklearn-color-fitted-level-2);\n",
       "}\n",
       "\n",
       "/* Specification for estimator info (e.g. \"i\" and \"?\") */\n",
       "\n",
       "/* Common style for \"i\" and \"?\" */\n",
       "\n",
       ".sk-estimator-doc-link,\n",
       "a:link.sk-estimator-doc-link,\n",
       "a:visited.sk-estimator-doc-link {\n",
       "  float: right;\n",
       "  font-size: smaller;\n",
       "  line-height: 1em;\n",
       "  font-family: monospace;\n",
       "  background-color: var(--sklearn-color-background);\n",
       "  border-radius: 1em;\n",
       "  height: 1em;\n",
       "  width: 1em;\n",
       "  text-decoration: none !important;\n",
       "  margin-left: 1ex;\n",
       "  /* unfitted */\n",
       "  border: var(--sklearn-color-unfitted-level-1) 1pt solid;\n",
       "  color: var(--sklearn-color-unfitted-level-1);\n",
       "}\n",
       "\n",
       ".sk-estimator-doc-link.fitted,\n",
       "a:link.sk-estimator-doc-link.fitted,\n",
       "a:visited.sk-estimator-doc-link.fitted {\n",
       "  /* fitted */\n",
       "  border: var(--sklearn-color-fitted-level-1) 1pt solid;\n",
       "  color: var(--sklearn-color-fitted-level-1);\n",
       "}\n",
       "\n",
       "/* On hover */\n",
       "div.sk-estimator:hover .sk-estimator-doc-link:hover,\n",
       ".sk-estimator-doc-link:hover,\n",
       "div.sk-label-container:hover .sk-estimator-doc-link:hover,\n",
       ".sk-estimator-doc-link:hover {\n",
       "  /* unfitted */\n",
       "  background-color: var(--sklearn-color-unfitted-level-3);\n",
       "  color: var(--sklearn-color-background);\n",
       "  text-decoration: none;\n",
       "}\n",
       "\n",
       "div.sk-estimator.fitted:hover .sk-estimator-doc-link.fitted:hover,\n",
       ".sk-estimator-doc-link.fitted:hover,\n",
       "div.sk-label-container:hover .sk-estimator-doc-link.fitted:hover,\n",
       ".sk-estimator-doc-link.fitted:hover {\n",
       "  /* fitted */\n",
       "  background-color: var(--sklearn-color-fitted-level-3);\n",
       "  color: var(--sklearn-color-background);\n",
       "  text-decoration: none;\n",
       "}\n",
       "\n",
       "/* Span, style for the box shown on hovering the info icon */\n",
       ".sk-estimator-doc-link span {\n",
       "  display: none;\n",
       "  z-index: 9999;\n",
       "  position: relative;\n",
       "  font-weight: normal;\n",
       "  right: .2ex;\n",
       "  padding: .5ex;\n",
       "  margin: .5ex;\n",
       "  width: min-content;\n",
       "  min-width: 20ex;\n",
       "  max-width: 50ex;\n",
       "  color: var(--sklearn-color-text);\n",
       "  box-shadow: 2pt 2pt 4pt #999;\n",
       "  /* unfitted */\n",
       "  background: var(--sklearn-color-unfitted-level-0);\n",
       "  border: .5pt solid var(--sklearn-color-unfitted-level-3);\n",
       "}\n",
       "\n",
       ".sk-estimator-doc-link.fitted span {\n",
       "  /* fitted */\n",
       "  background: var(--sklearn-color-fitted-level-0);\n",
       "  border: var(--sklearn-color-fitted-level-3);\n",
       "}\n",
       "\n",
       ".sk-estimator-doc-link:hover span {\n",
       "  display: block;\n",
       "}\n",
       "\n",
       "/* \"?\"-specific style due to the `<a>` HTML tag */\n",
       "\n",
       "#sk-container-id-1 a.estimator_doc_link {\n",
       "  float: right;\n",
       "  font-size: 1rem;\n",
       "  line-height: 1em;\n",
       "  font-family: monospace;\n",
       "  background-color: var(--sklearn-color-background);\n",
       "  border-radius: 1rem;\n",
       "  height: 1rem;\n",
       "  width: 1rem;\n",
       "  text-decoration: none;\n",
       "  /* unfitted */\n",
       "  color: var(--sklearn-color-unfitted-level-1);\n",
       "  border: var(--sklearn-color-unfitted-level-1) 1pt solid;\n",
       "}\n",
       "\n",
       "#sk-container-id-1 a.estimator_doc_link.fitted {\n",
       "  /* fitted */\n",
       "  border: var(--sklearn-color-fitted-level-1) 1pt solid;\n",
       "  color: var(--sklearn-color-fitted-level-1);\n",
       "}\n",
       "\n",
       "/* On hover */\n",
       "#sk-container-id-1 a.estimator_doc_link:hover {\n",
       "  /* unfitted */\n",
       "  background-color: var(--sklearn-color-unfitted-level-3);\n",
       "  color: var(--sklearn-color-background);\n",
       "  text-decoration: none;\n",
       "}\n",
       "\n",
       "#sk-container-id-1 a.estimator_doc_link.fitted:hover {\n",
       "  /* fitted */\n",
       "  background-color: var(--sklearn-color-fitted-level-3);\n",
       "}\n",
       "</style><div id=\"sk-container-id-1\" class=\"sk-top-container\"><div class=\"sk-text-repr-fallback\"><pre>Pipeline(steps=[(&#x27;preprocessor&#x27;,\n",
       "                 ColumnTransformer(remainder=&#x27;passthrough&#x27;,\n",
       "                                   transformers=[(&#x27;num&#x27;, StandardScaler(),\n",
       "                                                  [&#x27;horizon_days&#x27;, &#x27;price_BUY&#x27;,\n",
       "                                                   &#x27;price_SELL&#x27;, &#x27;Sharpe_Ratio&#x27;,\n",
       "                                                   &#x27;expected_return_yearly&#x27;,\n",
       "                                                   &#x27;inflation&#x27;,\n",
       "                                                   &#x27;nominal_return&#x27;,\n",
       "                                                   &#x27;ESG_ranking&#x27;, &#x27;PE_ratio&#x27;,\n",
       "                                                   &#x27;EPS_ratio&#x27;, &#x27;PS_ratio&#x27;,\n",
       "                                                   &#x27;PB_ratio&#x27;,\n",
       "                                                   &#x27;NetProfitMargin_ratio&#x27;,\n",
       "                                                   &#x27;current_ratio&#x27;, &#x27;roa_ratio&#x27;,\n",
       "                                                   &#x27;roe_ratio&#x27;])])),\n",
       "                (&#x27;classifier&#x27;, SVC(C=0.1, gamma=0.1, kernel=&#x27;linear&#x27;))])</pre><b>In a Jupyter environment, please rerun this cell to show the HTML representation or trust the notebook. <br />On GitHub, the HTML representation is unable to render, please try loading this page with nbviewer.org.</b></div><div class=\"sk-container\" hidden><div class=\"sk-item sk-dashed-wrapped\"><div class=\"sk-label-container\"><div class=\"sk-label fitted sk-toggleable\"><input class=\"sk-toggleable__control sk-hidden--visually\" id=\"sk-estimator-id-1\" type=\"checkbox\" ><label for=\"sk-estimator-id-1\" class=\"sk-toggleable__label fitted sk-toggleable__label-arrow fitted\">&nbsp;&nbsp;Pipeline<a class=\"sk-estimator-doc-link fitted\" rel=\"noreferrer\" target=\"_blank\" href=\"https://scikit-learn.org/1.4/modules/generated/sklearn.pipeline.Pipeline.html\">?<span>Documentation for Pipeline</span></a><span class=\"sk-estimator-doc-link fitted\">i<span>Fitted</span></span></label><div class=\"sk-toggleable__content fitted\"><pre>Pipeline(steps=[(&#x27;preprocessor&#x27;,\n",
       "                 ColumnTransformer(remainder=&#x27;passthrough&#x27;,\n",
       "                                   transformers=[(&#x27;num&#x27;, StandardScaler(),\n",
       "                                                  [&#x27;horizon_days&#x27;, &#x27;price_BUY&#x27;,\n",
       "                                                   &#x27;price_SELL&#x27;, &#x27;Sharpe_Ratio&#x27;,\n",
       "                                                   &#x27;expected_return_yearly&#x27;,\n",
       "                                                   &#x27;inflation&#x27;,\n",
       "                                                   &#x27;nominal_return&#x27;,\n",
       "                                                   &#x27;ESG_ranking&#x27;, &#x27;PE_ratio&#x27;,\n",
       "                                                   &#x27;EPS_ratio&#x27;, &#x27;PS_ratio&#x27;,\n",
       "                                                   &#x27;PB_ratio&#x27;,\n",
       "                                                   &#x27;NetProfitMargin_ratio&#x27;,\n",
       "                                                   &#x27;current_ratio&#x27;, &#x27;roa_ratio&#x27;,\n",
       "                                                   &#x27;roe_ratio&#x27;])])),\n",
       "                (&#x27;classifier&#x27;, SVC(C=0.1, gamma=0.1, kernel=&#x27;linear&#x27;))])</pre></div> </div></div><div class=\"sk-serial\"><div class=\"sk-item sk-dashed-wrapped\"><div class=\"sk-label-container\"><div class=\"sk-label fitted sk-toggleable\"><input class=\"sk-toggleable__control sk-hidden--visually\" id=\"sk-estimator-id-2\" type=\"checkbox\" ><label for=\"sk-estimator-id-2\" class=\"sk-toggleable__label fitted sk-toggleable__label-arrow fitted\">&nbsp;preprocessor: ColumnTransformer<a class=\"sk-estimator-doc-link fitted\" rel=\"noreferrer\" target=\"_blank\" href=\"https://scikit-learn.org/1.4/modules/generated/sklearn.compose.ColumnTransformer.html\">?<span>Documentation for preprocessor: ColumnTransformer</span></a></label><div class=\"sk-toggleable__content fitted\"><pre>ColumnTransformer(remainder=&#x27;passthrough&#x27;,\n",
       "                  transformers=[(&#x27;num&#x27;, StandardScaler(),\n",
       "                                 [&#x27;horizon_days&#x27;, &#x27;price_BUY&#x27;, &#x27;price_SELL&#x27;,\n",
       "                                  &#x27;Sharpe_Ratio&#x27;, &#x27;expected_return_yearly&#x27;,\n",
       "                                  &#x27;inflation&#x27;, &#x27;nominal_return&#x27;, &#x27;ESG_ranking&#x27;,\n",
       "                                  &#x27;PE_ratio&#x27;, &#x27;EPS_ratio&#x27;, &#x27;PS_ratio&#x27;,\n",
       "                                  &#x27;PB_ratio&#x27;, &#x27;NetProfitMargin_ratio&#x27;,\n",
       "                                  &#x27;current_ratio&#x27;, &#x27;roa_ratio&#x27;, &#x27;roe_ratio&#x27;])])</pre></div> </div></div><div class=\"sk-parallel\"><div class=\"sk-parallel-item\"><div class=\"sk-item\"><div class=\"sk-label-container\"><div class=\"sk-label fitted sk-toggleable\"><input class=\"sk-toggleable__control sk-hidden--visually\" id=\"sk-estimator-id-3\" type=\"checkbox\" ><label for=\"sk-estimator-id-3\" class=\"sk-toggleable__label fitted sk-toggleable__label-arrow fitted\">num</label><div class=\"sk-toggleable__content fitted\"><pre>[&#x27;horizon_days&#x27;, &#x27;price_BUY&#x27;, &#x27;price_SELL&#x27;, &#x27;Sharpe_Ratio&#x27;, &#x27;expected_return_yearly&#x27;, &#x27;inflation&#x27;, &#x27;nominal_return&#x27;, &#x27;ESG_ranking&#x27;, &#x27;PE_ratio&#x27;, &#x27;EPS_ratio&#x27;, &#x27;PS_ratio&#x27;, &#x27;PB_ratio&#x27;, &#x27;NetProfitMargin_ratio&#x27;, &#x27;current_ratio&#x27;, &#x27;roa_ratio&#x27;, &#x27;roe_ratio&#x27;]</pre></div> </div></div><div class=\"sk-serial\"><div class=\"sk-item\"><div class=\"sk-estimator fitted sk-toggleable\"><input class=\"sk-toggleable__control sk-hidden--visually\" id=\"sk-estimator-id-4\" type=\"checkbox\" ><label for=\"sk-estimator-id-4\" class=\"sk-toggleable__label fitted sk-toggleable__label-arrow fitted\">&nbsp;StandardScaler<a class=\"sk-estimator-doc-link fitted\" rel=\"noreferrer\" target=\"_blank\" href=\"https://scikit-learn.org/1.4/modules/generated/sklearn.preprocessing.StandardScaler.html\">?<span>Documentation for StandardScaler</span></a></label><div class=\"sk-toggleable__content fitted\"><pre>StandardScaler()</pre></div> </div></div></div></div></div><div class=\"sk-parallel-item\"><div class=\"sk-item\"><div class=\"sk-label-container\"><div class=\"sk-label fitted sk-toggleable\"><input class=\"sk-toggleable__control sk-hidden--visually\" id=\"sk-estimator-id-5\" type=\"checkbox\" ><label for=\"sk-estimator-id-5\" class=\"sk-toggleable__label fitted sk-toggleable__label-arrow fitted\">remainder</label><div class=\"sk-toggleable__content fitted\"><pre>[]</pre></div> </div></div><div class=\"sk-serial\"><div class=\"sk-item\"><div class=\"sk-estimator fitted sk-toggleable\"><input class=\"sk-toggleable__control sk-hidden--visually\" id=\"sk-estimator-id-6\" type=\"checkbox\" ><label for=\"sk-estimator-id-6\" class=\"sk-toggleable__label fitted sk-toggleable__label-arrow fitted\">passthrough</label><div class=\"sk-toggleable__content fitted\"><pre>passthrough</pre></div> </div></div></div></div></div></div></div><div class=\"sk-item\"><div class=\"sk-estimator fitted sk-toggleable\"><input class=\"sk-toggleable__control sk-hidden--visually\" id=\"sk-estimator-id-7\" type=\"checkbox\" ><label for=\"sk-estimator-id-7\" class=\"sk-toggleable__label fitted sk-toggleable__label-arrow fitted\">&nbsp;SVC<a class=\"sk-estimator-doc-link fitted\" rel=\"noreferrer\" target=\"_blank\" href=\"https://scikit-learn.org/1.4/modules/generated/sklearn.svm.SVC.html\">?<span>Documentation for SVC</span></a></label><div class=\"sk-toggleable__content fitted\"><pre>SVC(C=0.1, gamma=0.1, kernel=&#x27;linear&#x27;)</pre></div> </div></div></div></div></div></div>"
      ],
      "text/plain": [
       "Pipeline(steps=[('preprocessor',\n",
       "                 ColumnTransformer(remainder='passthrough',\n",
       "                                   transformers=[('num', StandardScaler(),\n",
       "                                                  ['horizon_days', 'price_BUY',\n",
       "                                                   'price_SELL', 'Sharpe_Ratio',\n",
       "                                                   'expected_return_yearly',\n",
       "                                                   'inflation',\n",
       "                                                   'nominal_return',\n",
       "                                                   'ESG_ranking', 'PE_ratio',\n",
       "                                                   'EPS_ratio', 'PS_ratio',\n",
       "                                                   'PB_ratio',\n",
       "                                                   'NetProfitMargin_ratio',\n",
       "                                                   'current_ratio', 'roa_ratio',\n",
       "                                                   'roe_ratio'])])),\n",
       "                ('classifier', SVC(C=0.1, gamma=0.1, kernel='linear'))])"
      ]
     },
     "execution_count": 16,
     "metadata": {},
     "output_type": "execute_result"
    }
   ],
   "source": [
    "best_model_svc"
   ]
  },
  {
   "cell_type": "markdown",
   "metadata": {},
   "source": [
    "## Random Forest"
   ]
  },
  {
   "cell_type": "code",
   "execution_count": 17,
   "metadata": {},
   "outputs": [],
   "source": [
    "param_grid_rf={'n_estimators': [50, 100,200], 'max_depth': [None, 10,20],'min_samples_split': [2, 5, 10]}"
   ]
  },
  {
   "cell_type": "code",
   "execution_count": 18,
   "metadata": {},
   "outputs": [
    {
     "name": "stdout",
     "output_type": "stream",
     "text": [
      "Cross-validation scores:  [1.         0.98550725 0.98550725 1.         1.        ]\n",
      "Mean cross-validation score:  0.9942028985507246\n"
     ]
    }
   ],
   "source": [
    "grid_search_rf = GridSearchCV(RandomForestClassifier(), param_grid_rf, cv=shuffle_split, scoring='recall')\n",
    "grid_search_results_rf = cross_val_score(grid_search_rf, X, y, cv=5)\n",
    "\n",
    "\n",
    "print(\"Cross-validation scores: \", grid_search_results_rf)\n",
    "print(\"Mean cross-validation score: \", grid_search_results_rf.mean())"
   ]
  },
  {
   "cell_type": "code",
   "execution_count": 19,
   "metadata": {},
   "outputs": [
    {
     "name": "stdout",
     "output_type": "stream",
     "text": [
      "Mejores parámetros encontrados: RandomForestClassifier(max_depth=20, min_samples_split=10, n_estimators=50)\n"
     ]
    }
   ],
   "source": [
    "ajuste_rf=grid_search_rf.fit(X, y)\n",
    "best_model_rf=ajuste_rf.best_estimator_\n",
    "\n",
    "# Resultados de la búsqueda de hiperparámetros\n",
    "print(\"Mejores parámetros encontrados:\", best_model_rf)"
   ]
  },
  {
   "cell_type": "code",
   "execution_count": 20,
   "metadata": {},
   "outputs": [
    {
     "data": {
      "text/html": [
       "<style>#sk-container-id-2 {\n",
       "  /* Definition of color scheme common for light and dark mode */\n",
       "  --sklearn-color-text: black;\n",
       "  --sklearn-color-line: gray;\n",
       "  /* Definition of color scheme for unfitted estimators */\n",
       "  --sklearn-color-unfitted-level-0: #fff5e6;\n",
       "  --sklearn-color-unfitted-level-1: #f6e4d2;\n",
       "  --sklearn-color-unfitted-level-2: #ffe0b3;\n",
       "  --sklearn-color-unfitted-level-3: chocolate;\n",
       "  /* Definition of color scheme for fitted estimators */\n",
       "  --sklearn-color-fitted-level-0: #f0f8ff;\n",
       "  --sklearn-color-fitted-level-1: #d4ebff;\n",
       "  --sklearn-color-fitted-level-2: #b3dbfd;\n",
       "  --sklearn-color-fitted-level-3: cornflowerblue;\n",
       "\n",
       "  /* Specific color for light theme */\n",
       "  --sklearn-color-text-on-default-background: var(--sg-text-color, var(--theme-code-foreground, var(--jp-content-font-color1, black)));\n",
       "  --sklearn-color-background: var(--sg-background-color, var(--theme-background, var(--jp-layout-color0, white)));\n",
       "  --sklearn-color-border-box: var(--sg-text-color, var(--theme-code-foreground, var(--jp-content-font-color1, black)));\n",
       "  --sklearn-color-icon: #696969;\n",
       "\n",
       "  @media (prefers-color-scheme: dark) {\n",
       "    /* Redefinition of color scheme for dark theme */\n",
       "    --sklearn-color-text-on-default-background: var(--sg-text-color, var(--theme-code-foreground, var(--jp-content-font-color1, white)));\n",
       "    --sklearn-color-background: var(--sg-background-color, var(--theme-background, var(--jp-layout-color0, #111)));\n",
       "    --sklearn-color-border-box: var(--sg-text-color, var(--theme-code-foreground, var(--jp-content-font-color1, white)));\n",
       "    --sklearn-color-icon: #878787;\n",
       "  }\n",
       "}\n",
       "\n",
       "#sk-container-id-2 {\n",
       "  color: var(--sklearn-color-text);\n",
       "}\n",
       "\n",
       "#sk-container-id-2 pre {\n",
       "  padding: 0;\n",
       "}\n",
       "\n",
       "#sk-container-id-2 input.sk-hidden--visually {\n",
       "  border: 0;\n",
       "  clip: rect(1px 1px 1px 1px);\n",
       "  clip: rect(1px, 1px, 1px, 1px);\n",
       "  height: 1px;\n",
       "  margin: -1px;\n",
       "  overflow: hidden;\n",
       "  padding: 0;\n",
       "  position: absolute;\n",
       "  width: 1px;\n",
       "}\n",
       "\n",
       "#sk-container-id-2 div.sk-dashed-wrapped {\n",
       "  border: 1px dashed var(--sklearn-color-line);\n",
       "  margin: 0 0.4em 0.5em 0.4em;\n",
       "  box-sizing: border-box;\n",
       "  padding-bottom: 0.4em;\n",
       "  background-color: var(--sklearn-color-background);\n",
       "}\n",
       "\n",
       "#sk-container-id-2 div.sk-container {\n",
       "  /* jupyter's `normalize.less` sets `[hidden] { display: none; }`\n",
       "     but bootstrap.min.css set `[hidden] { display: none !important; }`\n",
       "     so we also need the `!important` here to be able to override the\n",
       "     default hidden behavior on the sphinx rendered scikit-learn.org.\n",
       "     See: https://github.com/scikit-learn/scikit-learn/issues/21755 */\n",
       "  display: inline-block !important;\n",
       "  position: relative;\n",
       "}\n",
       "\n",
       "#sk-container-id-2 div.sk-text-repr-fallback {\n",
       "  display: none;\n",
       "}\n",
       "\n",
       "div.sk-parallel-item,\n",
       "div.sk-serial,\n",
       "div.sk-item {\n",
       "  /* draw centered vertical line to link estimators */\n",
       "  background-image: linear-gradient(var(--sklearn-color-text-on-default-background), var(--sklearn-color-text-on-default-background));\n",
       "  background-size: 2px 100%;\n",
       "  background-repeat: no-repeat;\n",
       "  background-position: center center;\n",
       "}\n",
       "\n",
       "/* Parallel-specific style estimator block */\n",
       "\n",
       "#sk-container-id-2 div.sk-parallel-item::after {\n",
       "  content: \"\";\n",
       "  width: 100%;\n",
       "  border-bottom: 2px solid var(--sklearn-color-text-on-default-background);\n",
       "  flex-grow: 1;\n",
       "}\n",
       "\n",
       "#sk-container-id-2 div.sk-parallel {\n",
       "  display: flex;\n",
       "  align-items: stretch;\n",
       "  justify-content: center;\n",
       "  background-color: var(--sklearn-color-background);\n",
       "  position: relative;\n",
       "}\n",
       "\n",
       "#sk-container-id-2 div.sk-parallel-item {\n",
       "  display: flex;\n",
       "  flex-direction: column;\n",
       "}\n",
       "\n",
       "#sk-container-id-2 div.sk-parallel-item:first-child::after {\n",
       "  align-self: flex-end;\n",
       "  width: 50%;\n",
       "}\n",
       "\n",
       "#sk-container-id-2 div.sk-parallel-item:last-child::after {\n",
       "  align-self: flex-start;\n",
       "  width: 50%;\n",
       "}\n",
       "\n",
       "#sk-container-id-2 div.sk-parallel-item:only-child::after {\n",
       "  width: 0;\n",
       "}\n",
       "\n",
       "/* Serial-specific style estimator block */\n",
       "\n",
       "#sk-container-id-2 div.sk-serial {\n",
       "  display: flex;\n",
       "  flex-direction: column;\n",
       "  align-items: center;\n",
       "  background-color: var(--sklearn-color-background);\n",
       "  padding-right: 1em;\n",
       "  padding-left: 1em;\n",
       "}\n",
       "\n",
       "\n",
       "/* Toggleable style: style used for estimator/Pipeline/ColumnTransformer box that is\n",
       "clickable and can be expanded/collapsed.\n",
       "- Pipeline and ColumnTransformer use this feature and define the default style\n",
       "- Estimators will overwrite some part of the style using the `sk-estimator` class\n",
       "*/\n",
       "\n",
       "/* Pipeline and ColumnTransformer style (default) */\n",
       "\n",
       "#sk-container-id-2 div.sk-toggleable {\n",
       "  /* Default theme specific background. It is overwritten whether we have a\n",
       "  specific estimator or a Pipeline/ColumnTransformer */\n",
       "  background-color: var(--sklearn-color-background);\n",
       "}\n",
       "\n",
       "/* Toggleable label */\n",
       "#sk-container-id-2 label.sk-toggleable__label {\n",
       "  cursor: pointer;\n",
       "  display: block;\n",
       "  width: 100%;\n",
       "  margin-bottom: 0;\n",
       "  padding: 0.5em;\n",
       "  box-sizing: border-box;\n",
       "  text-align: center;\n",
       "}\n",
       "\n",
       "#sk-container-id-2 label.sk-toggleable__label-arrow:before {\n",
       "  /* Arrow on the left of the label */\n",
       "  content: \"▸\";\n",
       "  float: left;\n",
       "  margin-right: 0.25em;\n",
       "  color: var(--sklearn-color-icon);\n",
       "}\n",
       "\n",
       "#sk-container-id-2 label.sk-toggleable__label-arrow:hover:before {\n",
       "  color: var(--sklearn-color-text);\n",
       "}\n",
       "\n",
       "/* Toggleable content - dropdown */\n",
       "\n",
       "#sk-container-id-2 div.sk-toggleable__content {\n",
       "  max-height: 0;\n",
       "  max-width: 0;\n",
       "  overflow: hidden;\n",
       "  text-align: left;\n",
       "  /* unfitted */\n",
       "  background-color: var(--sklearn-color-unfitted-level-0);\n",
       "}\n",
       "\n",
       "#sk-container-id-2 div.sk-toggleable__content.fitted {\n",
       "  /* fitted */\n",
       "  background-color: var(--sklearn-color-fitted-level-0);\n",
       "}\n",
       "\n",
       "#sk-container-id-2 div.sk-toggleable__content pre {\n",
       "  margin: 0.2em;\n",
       "  border-radius: 0.25em;\n",
       "  color: var(--sklearn-color-text);\n",
       "  /* unfitted */\n",
       "  background-color: var(--sklearn-color-unfitted-level-0);\n",
       "}\n",
       "\n",
       "#sk-container-id-2 div.sk-toggleable__content.fitted pre {\n",
       "  /* unfitted */\n",
       "  background-color: var(--sklearn-color-fitted-level-0);\n",
       "}\n",
       "\n",
       "#sk-container-id-2 input.sk-toggleable__control:checked~div.sk-toggleable__content {\n",
       "  /* Expand drop-down */\n",
       "  max-height: 200px;\n",
       "  max-width: 100%;\n",
       "  overflow: auto;\n",
       "}\n",
       "\n",
       "#sk-container-id-2 input.sk-toggleable__control:checked~label.sk-toggleable__label-arrow:before {\n",
       "  content: \"▾\";\n",
       "}\n",
       "\n",
       "/* Pipeline/ColumnTransformer-specific style */\n",
       "\n",
       "#sk-container-id-2 div.sk-label input.sk-toggleable__control:checked~label.sk-toggleable__label {\n",
       "  color: var(--sklearn-color-text);\n",
       "  background-color: var(--sklearn-color-unfitted-level-2);\n",
       "}\n",
       "\n",
       "#sk-container-id-2 div.sk-label.fitted input.sk-toggleable__control:checked~label.sk-toggleable__label {\n",
       "  background-color: var(--sklearn-color-fitted-level-2);\n",
       "}\n",
       "\n",
       "/* Estimator-specific style */\n",
       "\n",
       "/* Colorize estimator box */\n",
       "#sk-container-id-2 div.sk-estimator input.sk-toggleable__control:checked~label.sk-toggleable__label {\n",
       "  /* unfitted */\n",
       "  background-color: var(--sklearn-color-unfitted-level-2);\n",
       "}\n",
       "\n",
       "#sk-container-id-2 div.sk-estimator.fitted input.sk-toggleable__control:checked~label.sk-toggleable__label {\n",
       "  /* fitted */\n",
       "  background-color: var(--sklearn-color-fitted-level-2);\n",
       "}\n",
       "\n",
       "#sk-container-id-2 div.sk-label label.sk-toggleable__label,\n",
       "#sk-container-id-2 div.sk-label label {\n",
       "  /* The background is the default theme color */\n",
       "  color: var(--sklearn-color-text-on-default-background);\n",
       "}\n",
       "\n",
       "/* On hover, darken the color of the background */\n",
       "#sk-container-id-2 div.sk-label:hover label.sk-toggleable__label {\n",
       "  color: var(--sklearn-color-text);\n",
       "  background-color: var(--sklearn-color-unfitted-level-2);\n",
       "}\n",
       "\n",
       "/* Label box, darken color on hover, fitted */\n",
       "#sk-container-id-2 div.sk-label.fitted:hover label.sk-toggleable__label.fitted {\n",
       "  color: var(--sklearn-color-text);\n",
       "  background-color: var(--sklearn-color-fitted-level-2);\n",
       "}\n",
       "\n",
       "/* Estimator label */\n",
       "\n",
       "#sk-container-id-2 div.sk-label label {\n",
       "  font-family: monospace;\n",
       "  font-weight: bold;\n",
       "  display: inline-block;\n",
       "  line-height: 1.2em;\n",
       "}\n",
       "\n",
       "#sk-container-id-2 div.sk-label-container {\n",
       "  text-align: center;\n",
       "}\n",
       "\n",
       "/* Estimator-specific */\n",
       "#sk-container-id-2 div.sk-estimator {\n",
       "  font-family: monospace;\n",
       "  border: 1px dotted var(--sklearn-color-border-box);\n",
       "  border-radius: 0.25em;\n",
       "  box-sizing: border-box;\n",
       "  margin-bottom: 0.5em;\n",
       "  /* unfitted */\n",
       "  background-color: var(--sklearn-color-unfitted-level-0);\n",
       "}\n",
       "\n",
       "#sk-container-id-2 div.sk-estimator.fitted {\n",
       "  /* fitted */\n",
       "  background-color: var(--sklearn-color-fitted-level-0);\n",
       "}\n",
       "\n",
       "/* on hover */\n",
       "#sk-container-id-2 div.sk-estimator:hover {\n",
       "  /* unfitted */\n",
       "  background-color: var(--sklearn-color-unfitted-level-2);\n",
       "}\n",
       "\n",
       "#sk-container-id-2 div.sk-estimator.fitted:hover {\n",
       "  /* fitted */\n",
       "  background-color: var(--sklearn-color-fitted-level-2);\n",
       "}\n",
       "\n",
       "/* Specification for estimator info (e.g. \"i\" and \"?\") */\n",
       "\n",
       "/* Common style for \"i\" and \"?\" */\n",
       "\n",
       ".sk-estimator-doc-link,\n",
       "a:link.sk-estimator-doc-link,\n",
       "a:visited.sk-estimator-doc-link {\n",
       "  float: right;\n",
       "  font-size: smaller;\n",
       "  line-height: 1em;\n",
       "  font-family: monospace;\n",
       "  background-color: var(--sklearn-color-background);\n",
       "  border-radius: 1em;\n",
       "  height: 1em;\n",
       "  width: 1em;\n",
       "  text-decoration: none !important;\n",
       "  margin-left: 1ex;\n",
       "  /* unfitted */\n",
       "  border: var(--sklearn-color-unfitted-level-1) 1pt solid;\n",
       "  color: var(--sklearn-color-unfitted-level-1);\n",
       "}\n",
       "\n",
       ".sk-estimator-doc-link.fitted,\n",
       "a:link.sk-estimator-doc-link.fitted,\n",
       "a:visited.sk-estimator-doc-link.fitted {\n",
       "  /* fitted */\n",
       "  border: var(--sklearn-color-fitted-level-1) 1pt solid;\n",
       "  color: var(--sklearn-color-fitted-level-1);\n",
       "}\n",
       "\n",
       "/* On hover */\n",
       "div.sk-estimator:hover .sk-estimator-doc-link:hover,\n",
       ".sk-estimator-doc-link:hover,\n",
       "div.sk-label-container:hover .sk-estimator-doc-link:hover,\n",
       ".sk-estimator-doc-link:hover {\n",
       "  /* unfitted */\n",
       "  background-color: var(--sklearn-color-unfitted-level-3);\n",
       "  color: var(--sklearn-color-background);\n",
       "  text-decoration: none;\n",
       "}\n",
       "\n",
       "div.sk-estimator.fitted:hover .sk-estimator-doc-link.fitted:hover,\n",
       ".sk-estimator-doc-link.fitted:hover,\n",
       "div.sk-label-container:hover .sk-estimator-doc-link.fitted:hover,\n",
       ".sk-estimator-doc-link.fitted:hover {\n",
       "  /* fitted */\n",
       "  background-color: var(--sklearn-color-fitted-level-3);\n",
       "  color: var(--sklearn-color-background);\n",
       "  text-decoration: none;\n",
       "}\n",
       "\n",
       "/* Span, style for the box shown on hovering the info icon */\n",
       ".sk-estimator-doc-link span {\n",
       "  display: none;\n",
       "  z-index: 9999;\n",
       "  position: relative;\n",
       "  font-weight: normal;\n",
       "  right: .2ex;\n",
       "  padding: .5ex;\n",
       "  margin: .5ex;\n",
       "  width: min-content;\n",
       "  min-width: 20ex;\n",
       "  max-width: 50ex;\n",
       "  color: var(--sklearn-color-text);\n",
       "  box-shadow: 2pt 2pt 4pt #999;\n",
       "  /* unfitted */\n",
       "  background: var(--sklearn-color-unfitted-level-0);\n",
       "  border: .5pt solid var(--sklearn-color-unfitted-level-3);\n",
       "}\n",
       "\n",
       ".sk-estimator-doc-link.fitted span {\n",
       "  /* fitted */\n",
       "  background: var(--sklearn-color-fitted-level-0);\n",
       "  border: var(--sklearn-color-fitted-level-3);\n",
       "}\n",
       "\n",
       ".sk-estimator-doc-link:hover span {\n",
       "  display: block;\n",
       "}\n",
       "\n",
       "/* \"?\"-specific style due to the `<a>` HTML tag */\n",
       "\n",
       "#sk-container-id-2 a.estimator_doc_link {\n",
       "  float: right;\n",
       "  font-size: 1rem;\n",
       "  line-height: 1em;\n",
       "  font-family: monospace;\n",
       "  background-color: var(--sklearn-color-background);\n",
       "  border-radius: 1rem;\n",
       "  height: 1rem;\n",
       "  width: 1rem;\n",
       "  text-decoration: none;\n",
       "  /* unfitted */\n",
       "  color: var(--sklearn-color-unfitted-level-1);\n",
       "  border: var(--sklearn-color-unfitted-level-1) 1pt solid;\n",
       "}\n",
       "\n",
       "#sk-container-id-2 a.estimator_doc_link.fitted {\n",
       "  /* fitted */\n",
       "  border: var(--sklearn-color-fitted-level-1) 1pt solid;\n",
       "  color: var(--sklearn-color-fitted-level-1);\n",
       "}\n",
       "\n",
       "/* On hover */\n",
       "#sk-container-id-2 a.estimator_doc_link:hover {\n",
       "  /* unfitted */\n",
       "  background-color: var(--sklearn-color-unfitted-level-3);\n",
       "  color: var(--sklearn-color-background);\n",
       "  text-decoration: none;\n",
       "}\n",
       "\n",
       "#sk-container-id-2 a.estimator_doc_link.fitted:hover {\n",
       "  /* fitted */\n",
       "  background-color: var(--sklearn-color-fitted-level-3);\n",
       "}\n",
       "</style><div id=\"sk-container-id-2\" class=\"sk-top-container\"><div class=\"sk-text-repr-fallback\"><pre>RandomForestClassifier(max_depth=20, min_samples_split=10, n_estimators=50)</pre><b>In a Jupyter environment, please rerun this cell to show the HTML representation or trust the notebook. <br />On GitHub, the HTML representation is unable to render, please try loading this page with nbviewer.org.</b></div><div class=\"sk-container\" hidden><div class=\"sk-item\"><div class=\"sk-estimator fitted sk-toggleable\"><input class=\"sk-toggleable__control sk-hidden--visually\" id=\"sk-estimator-id-8\" type=\"checkbox\" checked><label for=\"sk-estimator-id-8\" class=\"sk-toggleable__label fitted sk-toggleable__label-arrow fitted\">&nbsp;&nbsp;RandomForestClassifier<a class=\"sk-estimator-doc-link fitted\" rel=\"noreferrer\" target=\"_blank\" href=\"https://scikit-learn.org/1.4/modules/generated/sklearn.ensemble.RandomForestClassifier.html\">?<span>Documentation for RandomForestClassifier</span></a><span class=\"sk-estimator-doc-link fitted\">i<span>Fitted</span></span></label><div class=\"sk-toggleable__content fitted\"><pre>RandomForestClassifier(max_depth=20, min_samples_split=10, n_estimators=50)</pre></div> </div></div></div></div>"
      ],
      "text/plain": [
       "RandomForestClassifier(max_depth=20, min_samples_split=10, n_estimators=50)"
      ]
     },
     "execution_count": 20,
     "metadata": {},
     "output_type": "execute_result"
    }
   ],
   "source": [
    "best_model_rf"
   ]
  },
  {
   "cell_type": "markdown",
   "metadata": {},
   "source": [
    "## XGBoost"
   ]
  },
  {
   "cell_type": "code",
   "execution_count": 21,
   "metadata": {},
   "outputs": [],
   "source": [
    "param_grid_xgb={'n_estimators': [50, 100,200], 'learning_rate': [0.01, 0.1,1],'max_depth': [None, 10,20],'subsample':[0.5,0.8,1]}"
   ]
  },
  {
   "cell_type": "code",
   "execution_count": 22,
   "metadata": {},
   "outputs": [
    {
     "name": "stdout",
     "output_type": "stream",
     "text": [
      "Cross-validation scores:  [1.         1.         0.98550725 1.         1.        ]\n",
      "Mean cross-validation score:  0.9971014492753623\n"
     ]
    }
   ],
   "source": [
    "grid_search_xgb = GridSearchCV(GradientBoostingClassifier(), param_grid_xgb, cv=shuffle_split, scoring='recall')\n",
    "grid_search_results_xgb = cross_val_score(grid_search_xgb, X, y, cv=5)\n",
    "\n",
    "\n",
    "print(\"Cross-validation scores: \", grid_search_results_xgb)\n",
    "print(\"Mean cross-validation score: \", grid_search_results_xgb.mean())"
   ]
  },
  {
   "cell_type": "code",
   "execution_count": 23,
   "metadata": {},
   "outputs": [
    {
     "name": "stdout",
     "output_type": "stream",
     "text": [
      "Mejores parámetros encontrados: GradientBoostingClassifier(learning_rate=0.01, max_depth=None, n_estimators=50,\n",
      "                           subsample=0.8)\n"
     ]
    }
   ],
   "source": [
    "ajuste_xgb=grid_search_xgb.fit(X, y)\n",
    "best_model_xgb=ajuste_xgb.best_estimator_\n",
    "\n",
    "# Resultados de la búsqueda de hiperparámetros\n",
    "print(\"Mejores parámetros encontrados:\", best_model_xgb)"
   ]
  },
  {
   "cell_type": "markdown",
   "metadata": {},
   "source": [
    "## Regresión Logistica"
   ]
  },
  {
   "cell_type": "code",
   "execution_count": 38,
   "metadata": {},
   "outputs": [],
   "source": [
    "preprocessor_log = ColumnTransformer(\n",
    "    transformers=[\n",
    "        ('num', StandardScaler(), VAR_numerical_cols)\n",
    "    ],\n",
    "    remainder='passthrough'\n",
    ")"
   ]
  },
  {
   "cell_type": "code",
   "execution_count": 39,
   "metadata": {},
   "outputs": [],
   "source": [
    "param_grid_rl = {\n",
    "    'classifier__C': [0.0001,0.001,0.1, 1, 10, 100], \n",
    "    'classifier__penalty': ['l1', 'l2'],  \n",
    "    'classifier__solver': ['liblinear', 'lbfgs', 'saga']  \n",
    "}\n"
   ]
  },
  {
   "cell_type": "code",
   "execution_count": 41,
   "metadata": {},
   "outputs": [],
   "source": [
    "pipelines_rl = Pipeline([\n",
    "        ('preprocessor', preprocessor_log),\n",
    "        ('classifier', LogisticRegression())\n",
    "])"
   ]
  },
  {
   "cell_type": "code",
   "execution_count": 46,
   "metadata": {},
   "outputs": [
    {
     "name": "stdout",
     "output_type": "stream",
     "text": [
      "Cross-validation scores:  [0.98550725 0.98550725 0.97101449 1.         1.        ]\n",
      "Mean cross-validation score:  0.9884057971014493\n"
     ]
    }
   ],
   "source": [
    "# Apagamos las warnings porque el optimizador interno de LogisticRegression() no converge en un minimo local\n",
    "\n",
    "import warnings\n",
    "\n",
    "# Desactiva las advertencias\n",
    "warnings.filterwarnings(\"ignore\")\n",
    "\n",
    "grid_search_log = GridSearchCV(pipelines_rl, param_grid_rl, cv=shuffle_split, scoring='recall')\n",
    "grid_search_results_log = cross_val_score(grid_search_log, X, y, cv=5)\n",
    "\n",
    "\n",
    "print(\"Cross-validation scores: \", grid_search_results_log)\n",
    "print(\"Mean cross-validation score: \", grid_search_results_log.mean())\n",
    "\n",
    "\n",
    "# Vuelve a activar las advertencias\n",
    "warnings.filterwarnings(\"default\")"
   ]
  },
  {
   "cell_type": "code",
   "execution_count": 48,
   "metadata": {},
   "outputs": [
    {
     "name": "stdout",
     "output_type": "stream",
     "text": [
      "Mejores parámetros encontrados: LogisticRegression(C=0.1, penalty='l1', solver='liblinear')\n"
     ]
    }
   ],
   "source": [
    "import warnings\n",
    "\n",
    "# Desactiva las advertencias\n",
    "warnings.filterwarnings(\"ignore\")\n",
    "\n",
    "ajuste_log=grid_search_log.fit(X, y)\n",
    "best_model_log=ajuste_log.best_estimator_\n",
    "\n",
    "# Resultados de la búsqueda de hiperparámetros\n",
    "print(\"Mejores parámetros encontrados:\", best_model_log['classifier'])\n",
    "\n",
    "# Vuelve a activar las advertencias\n",
    "warnings.filterwarnings(\"default\")"
   ]
  },
  {
   "cell_type": "markdown",
   "metadata": {},
   "source": [
    "## Medición de métricas"
   ]
  },
  {
   "cell_type": "markdown",
   "metadata": {},
   "source": [
    "Por último, vemos los 3 objetos entrenados:"
   ]
  },
  {
   "cell_type": "code",
   "execution_count": 49,
   "metadata": {},
   "outputs": [
    {
     "name": "stdout",
     "output_type": "stream",
     "text": [
      "Pipeline(steps=[('preprocessor',\n",
      "                 ColumnTransformer(remainder='passthrough',\n",
      "                                   transformers=[('num', StandardScaler(),\n",
      "                                                  ['horizon_days', 'price_BUY',\n",
      "                                                   'price_SELL', 'Sharpe_Ratio',\n",
      "                                                   'expected_return_yearly',\n",
      "                                                   'inflation',\n",
      "                                                   'nominal_return',\n",
      "                                                   'ESG_ranking', 'PE_ratio',\n",
      "                                                   'EPS_ratio', 'PS_ratio',\n",
      "                                                   'PB_ratio',\n",
      "                                                   'NetProfitMargin_ratio',\n",
      "                                                   'current_ratio', 'roa_ratio',\n",
      "                                                   'roe_ratio'])])),\n",
      "                ('classifier', SVC(C=0.1, gamma=0.1, kernel='linear'))])\n",
      "RandomForestClassifier(max_depth=20, min_samples_split=10, n_estimators=50)\n",
      "GradientBoostingClassifier(learning_rate=0.01, max_depth=None, n_estimators=50,\n",
      "                           subsample=0.8)\n",
      "Pipeline(steps=[('preprocessor',\n",
      "                 ColumnTransformer(remainder='passthrough',\n",
      "                                   transformers=[('num', StandardScaler(),\n",
      "                                                  ['horizon_days', 'price_BUY',\n",
      "                                                   'price_SELL', 'Sharpe_Ratio',\n",
      "                                                   'expected_return_yearly',\n",
      "                                                   'inflation',\n",
      "                                                   'nominal_return',\n",
      "                                                   'ESG_ranking', 'PE_ratio',\n",
      "                                                   'EPS_ratio', 'PS_ratio',\n",
      "                                                   'PB_ratio',\n",
      "                                                   'NetProfitMargin_ratio',\n",
      "                                                   'current_ratio', 'roa_ratio',\n",
      "                                                   'roe_ratio'])])),\n",
      "                ('classifier',\n",
      "                 LogisticRegression(C=0.1, penalty='l1', solver='liblinear'))])\n"
     ]
    }
   ],
   "source": [
    "print(best_model_svc)\n",
    "print(best_model_rf)\n",
    "print(best_model_xgb)\n",
    "print(best_model_log)"
   ]
  },
  {
   "cell_type": "markdown",
   "metadata": {},
   "source": [
    "Miramos el reporte de métricas completas que nos ofrece Sklearn\n",
    "\n",
    "Usamos un conjunto de datos de validación que proviene de fuentes locales, para simular con datos nuevos empresariales que vienen de afuera y que aún no conoce el modelo"
   ]
  },
  {
   "cell_type": "code",
   "execution_count": 25,
   "metadata": {},
   "outputs": [],
   "source": [
    "# carga de datos local\n",
    "ruta2='C:/Users/Pc Com/Documents'\n",
    "data2 = os.path.join(ruta2, 'final_transactions_dataset.csv')\n",
    "data2 = pd.read_csv(data2)\n",
    "data2=data2.drop('id', axis=1)\n",
    "mapeo2 = {'GOOD': 1, 'BAD': 0}\n",
    "\n",
    "# Aplicar el mapeo a la columna 'categoria'\n",
    "data2['investment'] = data2['investment'].map(mapeo2)\n",
    "data2=data2.rename(columns={'horizon (days)':'horizon_days','Sharpe Ratio':'Sharpe_Ratio','expected_return (yearly)':'expected_return_yearly'})\n",
    "data2=data2.sample(n=450,replace=False).reset_index(drop=True)"
   ]
  },
  {
   "cell_type": "code",
   "execution_count": 26,
   "metadata": {},
   "outputs": [],
   "source": [
    "X_valid=data2[independent_var]\n",
    "y_valid=data2[dependent_var]"
   ]
  },
  {
   "cell_type": "code",
   "execution_count": 50,
   "metadata": {},
   "outputs": [],
   "source": [
    "# Calcular las métricas para el SVC\n",
    "y_pred1 = best_model_svc.predict(X_valid)\n",
    "precision1 = precision_score(y_valid, y_pred1)\n",
    "recall1 = recall_score(y_valid, y_pred1)\n",
    "accuracy1 = accuracy_score(y_valid, y_pred1)\n",
    "f1_score1 = f1_score(y_valid, y_pred1)\n",
    "\n",
    "# Calcular las métricas para el RandomForest\n",
    "y_pred2 = best_model_rf.predict(X_valid)\n",
    "precision2 = precision_score(y_valid, y_pred2)\n",
    "recall2 = recall_score(y_valid, y_pred2)\n",
    "accuracy2 = accuracy_score(y_valid, y_pred2)\n",
    "f1_score2 = f1_score(y_valid, y_pred2)\n",
    "\n",
    "# Calcular las métricas para el XGBoost\n",
    "y_pred3 = best_model_xgb.predict(X_valid)\n",
    "precision3 = precision_score(y_valid, y_pred3)\n",
    "recall3 = recall_score(y_valid, y_pred3)\n",
    "accuracy3 = accuracy_score(y_valid, y_pred3)\n",
    "f1_score3 = f1_score(y_valid, y_pred3)\n",
    "\n",
    "# Calcular las métricas para el logistico\n",
    "y_pred4 = best_model_log.predict(X_valid)\n",
    "precision4 = precision_score(y_valid, y_pred4)\n",
    "recall4 = recall_score(y_valid, y_pred4)\n",
    "accuracy4 = accuracy_score(y_valid, y_pred4)\n",
    "f1_score4 = f1_score(y_valid, y_pred4)"
   ]
  },
  {
   "cell_type": "code",
   "execution_count": 51,
   "metadata": {},
   "outputs": [],
   "source": [
    "data_reporte = {\n",
    "    'Modelo': ['Support Vector Classifier', 'Random Forest Classifier', 'XGBoost Classifier','Logisic Regression'],\n",
    "    'Precision': [precision1, precision2, precision3,precision4],\n",
    "    'Recall': [recall1, recall2, recall3,recall4],\n",
    "    'Accuracy': [accuracy1, accuracy2, accuracy3,accuracy4],\n",
    "    'F1-score': [f1_score1, f1_score2, f1_score3,f1_score4]\n",
    "}\n",
    "\n",
    "df_reporte = pd.DataFrame(data_reporte)"
   ]
  },
  {
   "cell_type": "markdown",
   "metadata": {},
   "source": [
    "Rendimiento de modelos para conjunto de datos de valdiación"
   ]
  },
  {
   "cell_type": "code",
   "execution_count": 52,
   "metadata": {},
   "outputs": [
    {
     "data": {
      "text/html": [
       "<div>\n",
       "<style scoped>\n",
       "    .dataframe tbody tr th:only-of-type {\n",
       "        vertical-align: middle;\n",
       "    }\n",
       "\n",
       "    .dataframe tbody tr th {\n",
       "        vertical-align: top;\n",
       "    }\n",
       "\n",
       "    .dataframe thead th {\n",
       "        text-align: right;\n",
       "    }\n",
       "</style>\n",
       "<table border=\"1\" class=\"dataframe\">\n",
       "  <thead>\n",
       "    <tr style=\"text-align: right;\">\n",
       "      <th></th>\n",
       "      <th>Modelo</th>\n",
       "      <th>Precision</th>\n",
       "      <th>Recall</th>\n",
       "      <th>Accuracy</th>\n",
       "      <th>F1-score</th>\n",
       "    </tr>\n",
       "  </thead>\n",
       "  <tbody>\n",
       "    <tr>\n",
       "      <th>0</th>\n",
       "      <td>Support Vector Classifier</td>\n",
       "      <td>0.780488</td>\n",
       "      <td>0.958084</td>\n",
       "      <td>0.884444</td>\n",
       "      <td>0.860215</td>\n",
       "    </tr>\n",
       "    <tr>\n",
       "      <th>1</th>\n",
       "      <td>Random Forest Classifier</td>\n",
       "      <td>1.000000</td>\n",
       "      <td>0.994012</td>\n",
       "      <td>0.997778</td>\n",
       "      <td>0.996997</td>\n",
       "    </tr>\n",
       "    <tr>\n",
       "      <th>2</th>\n",
       "      <td>XGBoost Classifier</td>\n",
       "      <td>1.000000</td>\n",
       "      <td>1.000000</td>\n",
       "      <td>1.000000</td>\n",
       "      <td>1.000000</td>\n",
       "    </tr>\n",
       "    <tr>\n",
       "      <th>3</th>\n",
       "      <td>Logisic Regression</td>\n",
       "      <td>0.835052</td>\n",
       "      <td>0.970060</td>\n",
       "      <td>0.917778</td>\n",
       "      <td>0.897507</td>\n",
       "    </tr>\n",
       "  </tbody>\n",
       "</table>\n",
       "</div>"
      ],
      "text/plain": [
       "                      Modelo  Precision    Recall  Accuracy  F1-score\n",
       "0  Support Vector Classifier   0.780488  0.958084  0.884444  0.860215\n",
       "1   Random Forest Classifier   1.000000  0.994012  0.997778  0.996997\n",
       "2         XGBoost Classifier   1.000000  1.000000  1.000000  1.000000\n",
       "3         Logisic Regression   0.835052  0.970060  0.917778  0.897507"
      ]
     },
     "execution_count": 52,
     "metadata": {},
     "output_type": "execute_result"
    }
   ],
   "source": [
    "df_reporte"
   ]
  },
  {
   "cell_type": "code",
   "execution_count": 53,
   "metadata": {},
   "outputs": [
    {
     "name": "stdout",
     "output_type": "stream",
     "text": [
      "Matriz de Confusión SVC:\n",
      " [[238  45]\n",
      " [  7 160]]\n",
      "Matriz de Confusión RandomForest:\n",
      " [[283   0]\n",
      " [  1 166]]\n",
      "Matriz de Confusión XGBoost:\n",
      " [[283   0]\n",
      " [  0 167]]\n",
      "Matriz de Confusión XGBoost:\n",
      " [[251  32]\n",
      " [  5 162]]\n"
     ]
    }
   ],
   "source": [
    "conf_matrix_svc = confusion_matrix(y_valid, y_pred1)\n",
    "print(\"Matriz de Confusión SVC:\\n\", conf_matrix_svc)\n",
    "\n",
    "conf_matrix_rf = confusion_matrix(y_valid, y_pred2)\n",
    "print(\"Matriz de Confusión RandomForest:\\n\", conf_matrix_rf)\n",
    "\n",
    "conf_matrix_xgb = confusion_matrix(y_valid, y_pred3)\n",
    "print(\"Matriz de Confusión XGBoost:\\n\", conf_matrix_xgb)\n",
    "\n",
    "conf_matrix_log = confusion_matrix(y_valid, y_pred4)\n",
    "print(\"Matriz de Confusión XGBoost:\\n\", conf_matrix_log)"
   ]
  },
  {
   "cell_type": "code",
   "execution_count": 31,
   "metadata": {},
   "outputs": [
    {
     "data": {
      "image/png": "[encoded data removed]",
      "text/plain": [
       "<Figure size 800x800 with 2 Axes>"
      ]
     },
     "metadata": {},
     "output_type": "display_data"
    }
   ],
   "source": [
    "# Visualizar la matriz de confusión\n",
    "disp = ConfusionMatrixDisplay(confusion_matrix=conf_matrix_svc)\n",
    "fig, ax = plt.subplots(figsize=(8, 8))\n",
    "disp.plot(ax=ax, cmap='Blues')\n",
    "plt.title(\"Matriz de Confusión - Modelo ganador Supprot Vector Machines\")\n",
    "plt.show()"
   ]
  },
  {
   "cell_type": "code",
   "execution_count": 32,
   "metadata": {},
   "outputs": [
    {
     "data": {
      "image/png": "[encoded data removed]",
      "text/plain": [
       "<Figure size 800x800 with 2 Axes>"
      ]
     },
     "metadata": {},
     "output_type": "display_data"
    }
   ],
   "source": [
    "# Visualizar la matriz de confusión\n",
    "disp = ConfusionMatrixDisplay(confusion_matrix=conf_matrix_rf)\n",
    "fig, ax = plt.subplots(figsize=(8, 8))\n",
    "disp.plot(ax=ax, cmap='Blues')\n",
    "plt.title(\"Matriz de Confusión - Modelo ganador Random Forest\")\n",
    "plt.show()"
   ]
  },
  {
   "cell_type": "code",
   "execution_count": 33,
   "metadata": {},
   "outputs": [
    {
     "data": {
      "image/png": "[encoded data removed]",
      "text/plain": [
       "<Figure size 800x800 with 2 Axes>"
      ]
     },
     "metadata": {},
     "output_type": "display_data"
    }
   ],
   "source": [
    "# Visualizar la matriz de confusión\n",
    "disp = ConfusionMatrixDisplay(confusion_matrix=conf_matrix_xgb)\n",
    "fig, ax = plt.subplots(figsize=(8, 8))\n",
    "disp.plot(ax=ax, cmap='Blues')\n",
    "plt.title(\"Matriz de Confusión - Modelo ganador XGBoost\")\n",
    "plt.show()"
   ]
  },
  {
   "cell_type": "code",
   "execution_count": 54,
   "metadata": {},
   "outputs": [
    {
     "data": {
      "image/png": "[encoded data removed]",
      "text/plain": [
       "<Figure size 800x800 with 2 Axes>"
      ]
     },
     "metadata": {},
     "output_type": "display_data"
    }
   ],
   "source": [
    "# Visualizar la matriz de confusión\n",
    "disp = ConfusionMatrixDisplay(confusion_matrix=conf_matrix_log)\n",
    "fig, ax = plt.subplots(figsize=(8, 8))\n",
    "disp.plot(ax=ax, cmap='Blues')\n",
    "plt.title(\"Matriz de Confusión - Modelo ganador Regresión Logistica\")\n",
    "plt.show()"
   ]
  },
  {
   "cell_type": "markdown",
   "metadata": {},
   "source": [
    "Como podemos observar con los datos que nunca ha visto el modelo:\n",
    "\n",
    "- El modelo de clasificación XGBoost posee un valor de recall de 1, tanto en conjuntos de datos de pruebas como en conjunto de validaciones. Esto se puede deber a que los datos de entrenamiento de este problema de clasificación sean intrínsecamente fácil para el modelo que estás utilizando, por lo que puede obtener un rendimiento perfecto en todos los conjuntos de datos.\n",
    "\n",
    "- Respecto al Random Forest, vemos que el rendimiento del modelo en el conjunto de datos de prueba nos presenta valores de recall demasiado altos, los cuales en el conjunto de datos de valdiación, que son datos que nunca ha visto, se ven reflejados con los mismos comportamientos en su rendimiento. Este es el modelo \n",
    "\n",
    "- Respecto al modelo de support vector machines, tuvimos que usar preprocesamiento de escalamiento de datos para que todo esté aproximadamente en la misma escala. Este fue el modelo que posee más generalizacion de los demas, lo podemos ver reflejado en sus medidas de rendimientos."
   ]
  },
  {
   "cell_type": "markdown",
   "metadata": {},
   "source": [
    "## Visibilidad y entendimiento del modelo\n",
    "\n",
    "En esta sección buscamos entender cómo es el modelo de RandomForest, mediante varias tecnicas"
   ]
  },
  {
   "cell_type": "markdown",
   "metadata": {},
   "source": [
    "El \"feature importance\" (importancia de las características) en un modelo de aprendizaje automático, indica cuánto contribuye cada característica (o atributo) al rendimiento general del modelo en la tarea de predicción. Es una medida útil para entender qué características son más relevantes para la predicción de la variable objetivo.\n",
    "\n",
    "En este caso podemos ver que la variable `inflation` y `nominal_return` (Inflación durante la variable horizon_days y Retorno nominal) aporta mas 35% en la prediccion de si la firma es buena para invertir o no, dando a entender que para **este** modelo en especifico son variables importantes"
   ]
  },
  {
   "cell_type": "code",
   "execution_count": 34,
   "metadata": {},
   "outputs": [
    {
     "data": {
      "image/png": "[encoded data removed]",
      "text/plain": [
       "<Figure size 1000x600 with 1 Axes>"
      ]
     },
     "metadata": {},
     "output_type": "display_data"
    }
   ],
   "source": [
    "# Obtener la importancia de las características\n",
    "feature_importances = best_model_rf.feature_importances_\n",
    "\n",
    "# Obtener los nombres de las características\n",
    "feature_names = X_valid.columns  # Reemplaza esto con el nombre de tus características si tienes\n",
    "\n",
    "# Ordenar las características por su importancia\n",
    "sorted_indices = np.argsort(feature_importances)[::-1]\n",
    "sorted_feature_importances = feature_importances[sorted_indices]\n",
    "sorted_feature_names = feature_names[sorted_indices]\n",
    "\n",
    "# Graficar la importancia de las características\n",
    "plt.figure(figsize=(10, 6))\n",
    "plt.barh(sorted_feature_names, sorted_feature_importances)\n",
    "plt.xlabel('Porcentaje  de importancia de las Variables')\n",
    "plt.ylabel('Variables')\n",
    "plt.title('Importancia de las Variables (Random Forest)')\n",
    "plt.show()"
   ]
  },
  {
   "cell_type": "code",
   "execution_count": 55,
   "metadata": {},
   "outputs": [
    {
     "data": {
      "image/png": "[encoded data removed]",
      "text/plain": [
       "<Figure size 1000x600 with 1 Axes>"
      ]
     },
     "metadata": {},
     "output_type": "display_data"
    }
   ],
   "source": [
    "# Obtener la importancia de las características\n",
    "feature_importances = best_model_xgb.feature_importances_\n",
    "\n",
    "# Obtener los nombres de las características\n",
    "feature_names = X_valid.columns  # Reemplaza esto con el nombre de tus características si tienes\n",
    "\n",
    "# Ordenar las características por su importancia\n",
    "sorted_indices = np.argsort(feature_importances)[::-1]\n",
    "sorted_feature_importances = feature_importances[sorted_indices]\n",
    "sorted_feature_names = feature_names[sorted_indices]\n",
    "\n",
    "# Graficar la importancia de las características\n",
    "plt.figure(figsize=(10, 6))\n",
    "plt.barh(sorted_feature_names, sorted_feature_importances)\n",
    "plt.xlabel('Porcentaje  de importancia de las Variables')\n",
    "plt.ylabel('Variables')\n",
    "plt.title('Importancia de las Variables (XGBoost)')\n",
    "plt.show()"
   ]
  },
  {
   "cell_type": "markdown",
   "metadata": {},
   "source": [
    "## Importación de modelos"
   ]
  },
  {
   "cell_type": "code",
   "execution_count": 35,
   "metadata": {},
   "outputs": [
    {
     "data": {
      "text/plain": [
       "['C:/Users/Pc Com/Documents/modelo_ganador_svc.joblib']"
      ]
     },
     "execution_count": 35,
     "metadata": {},
     "output_type": "execute_result"
    }
   ],
   "source": [
    "# Guardar el modelo SVC en un archivo\n",
    "clf_svm=best_model_svc\n",
    "joblib.dump(clf_svm, 'C:/Users/Pc Com/Documents/modelo_ganador_svc.joblib')"
   ]
  },
  {
   "cell_type": "code",
   "execution_count": 36,
   "metadata": {},
   "outputs": [
    {
     "data": {
      "text/plain": [
       "['C:/Users/Pc Com/Documents/modelo_ganador_rf.joblib']"
      ]
     },
     "execution_count": 36,
     "metadata": {},
     "output_type": "execute_result"
    }
   ],
   "source": [
    "# Guardar el modelo RF en un archivo\n",
    "clf_rf=best_model_rf\n",
    "joblib.dump(clf_rf, 'C:/Users/Pc Com/Documents/modelo_ganador_rf.joblib')"
   ]
  },
  {
   "cell_type": "code",
   "execution_count": 37,
   "metadata": {},
   "outputs": [
    {
     "data": {
      "text/plain": [
       "['C:/Users/Pc Com/Documents/modelo_ganador_xbg.joblib']"
      ]
     },
     "execution_count": 37,
     "metadata": {},
     "output_type": "execute_result"
    }
   ],
   "source": [
    "# Guardar el modelo XGB en un archivo\n",
    "clf_xgb=best_model_xgb\n",
    "joblib.dump(clf_xgb, 'C:/Users/Pc Com/Documents/modelo_ganador_xbg.joblib')"
   ]
  },
  {
   "cell_type": "code",
   "execution_count": 56,
   "metadata": {},
   "outputs": [
    {
     "data": {
      "text/plain": [
       "['C:/Users/Pc Com/Documents/modelo_ganador_log.joblib']"
      ]
     },
     "execution_count": 56,
     "metadata": {},
     "output_type": "execute_result"
    }
   ],
   "source": [
    "# Guardar el modelo XGB en un archivo\n",
    "clf_log=best_model_log\n",
    "joblib.dump(clf_log, 'C:/Users/Pc Com/Documents/modelo_ganador_log.joblib')"
   ]
  }
 ],
 "metadata": {
  "kernelspec": {
   "display_name": "Python 3",
   "language": "python",
   "name": "python3"
  },
  "language_info": {
   "codemirror_mode": {
    "name": "ipython",
    "version": 3
   },
   "file_extension": ".py",
   "mimetype": "text/x-python",
   "name": "python",
   "nbconvert_exporter": "python",
   "pygments_lexer": "ipython3",
   "version": "3.9.17"
  },
  "widgets": {
   "application/vnd.jupyter.widget-state+json": {
    "state": {},
    "version_major": 2,
    "version_minor": 0
   }
  }
 },
 "nbformat": 4,
 "nbformat_minor": 4
}
